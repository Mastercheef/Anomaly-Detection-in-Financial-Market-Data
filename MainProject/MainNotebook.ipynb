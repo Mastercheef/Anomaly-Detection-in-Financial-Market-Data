{
 "cells": [
  {
   "cell_type": "markdown",
   "metadata": {
    "collapsed": true,
    "pycharm": {
     "name": "#%% md\n"
    }
   },
   "source": [
    "Anomalieerkennung in Finanzmarktdaten"
   ]
  },
  {
   "cell_type": "code",
   "execution_count": 25,
   "outputs": [],
   "source": [
    "import matplotlib.pyplot as plt\n",
    "from sklearn.metrics import f1_score\n",
    "import Builder"
   ],
   "metadata": {
    "collapsed": false,
    "pycharm": {
     "name": "#%%\n"
    }
   }
  },
  {
   "cell_type": "code",
   "execution_count": 20,
   "outputs": [],
   "source": [
    "data = Builder.buildMertonDF()"
   ],
   "metadata": {
    "collapsed": false,
    "pycharm": {
     "name": "#%%\n"
    }
   }
  },
  {
   "cell_type": "code",
   "execution_count": 23,
   "outputs": [
    {
     "data": {
      "text/plain": "     Merton Jump    Return  Realized variance  Anomaly Returns CutOff  \\\n0      99.683762  0.000000       0.000000e+00                     1.0   \n1      98.839196 -0.008472       0.000000e+00                     1.0   \n2      98.827317 -0.000120       3.488011e-05                     1.0   \n3      98.475666 -0.003558       5.910085e-06                     1.0   \n4      97.641925 -0.008466       1.204539e-05                     1.0   \n..           ...       ...                ...                     ...   \n995   424.380587  0.009562       2.584111e-05                     1.0   \n996   427.434920  0.007197       2.797355e-06                     1.0   \n997   430.858645  0.008010       3.303058e-07                     1.0   \n998   433.341781  0.005763       2.523850e-06                     1.0   \n999   439.681138  0.014629       3.930098e-05                     1.0   \n\n     Anomaly RV CutOff  Anomaly Returns IF  Anomaly RV IF  \n0                  1.0                   1              1  \n1                  1.0                   1              1  \n2                  1.0                   1              1  \n3                  1.0                   1              1  \n4                  1.0                   1              1  \n..                 ...                 ...            ...  \n995                1.0                   1              1  \n996                1.0                   1              1  \n997                1.0                   1              1  \n998                1.0                   1              1  \n999                1.0                  -1              1  \n\n[1000 rows x 7 columns]",
      "text/html": "<div>\n<style scoped>\n    .dataframe tbody tr th:only-of-type {\n        vertical-align: middle;\n    }\n\n    .dataframe tbody tr th {\n        vertical-align: top;\n    }\n\n    .dataframe thead th {\n        text-align: right;\n    }\n</style>\n<table border=\"1\" class=\"dataframe\">\n  <thead>\n    <tr style=\"text-align: right;\">\n      <th></th>\n      <th>Merton Jump</th>\n      <th>Return</th>\n      <th>Realized variance</th>\n      <th>Anomaly Returns CutOff</th>\n      <th>Anomaly RV CutOff</th>\n      <th>Anomaly Returns IF</th>\n      <th>Anomaly RV IF</th>\n    </tr>\n  </thead>\n  <tbody>\n    <tr>\n      <th>0</th>\n      <td>99.683762</td>\n      <td>0.000000</td>\n      <td>0.000000e+00</td>\n      <td>1.0</td>\n      <td>1.0</td>\n      <td>1</td>\n      <td>1</td>\n    </tr>\n    <tr>\n      <th>1</th>\n      <td>98.839196</td>\n      <td>-0.008472</td>\n      <td>0.000000e+00</td>\n      <td>1.0</td>\n      <td>1.0</td>\n      <td>1</td>\n      <td>1</td>\n    </tr>\n    <tr>\n      <th>2</th>\n      <td>98.827317</td>\n      <td>-0.000120</td>\n      <td>3.488011e-05</td>\n      <td>1.0</td>\n      <td>1.0</td>\n      <td>1</td>\n      <td>1</td>\n    </tr>\n    <tr>\n      <th>3</th>\n      <td>98.475666</td>\n      <td>-0.003558</td>\n      <td>5.910085e-06</td>\n      <td>1.0</td>\n      <td>1.0</td>\n      <td>1</td>\n      <td>1</td>\n    </tr>\n    <tr>\n      <th>4</th>\n      <td>97.641925</td>\n      <td>-0.008466</td>\n      <td>1.204539e-05</td>\n      <td>1.0</td>\n      <td>1.0</td>\n      <td>1</td>\n      <td>1</td>\n    </tr>\n    <tr>\n      <th>...</th>\n      <td>...</td>\n      <td>...</td>\n      <td>...</td>\n      <td>...</td>\n      <td>...</td>\n      <td>...</td>\n      <td>...</td>\n    </tr>\n    <tr>\n      <th>995</th>\n      <td>424.380587</td>\n      <td>0.009562</td>\n      <td>2.584111e-05</td>\n      <td>1.0</td>\n      <td>1.0</td>\n      <td>1</td>\n      <td>1</td>\n    </tr>\n    <tr>\n      <th>996</th>\n      <td>427.434920</td>\n      <td>0.007197</td>\n      <td>2.797355e-06</td>\n      <td>1.0</td>\n      <td>1.0</td>\n      <td>1</td>\n      <td>1</td>\n    </tr>\n    <tr>\n      <th>997</th>\n      <td>430.858645</td>\n      <td>0.008010</td>\n      <td>3.303058e-07</td>\n      <td>1.0</td>\n      <td>1.0</td>\n      <td>1</td>\n      <td>1</td>\n    </tr>\n    <tr>\n      <th>998</th>\n      <td>433.341781</td>\n      <td>0.005763</td>\n      <td>2.523850e-06</td>\n      <td>1.0</td>\n      <td>1.0</td>\n      <td>1</td>\n      <td>1</td>\n    </tr>\n    <tr>\n      <th>999</th>\n      <td>439.681138</td>\n      <td>0.014629</td>\n      <td>3.930098e-05</td>\n      <td>1.0</td>\n      <td>1.0</td>\n      <td>-1</td>\n      <td>1</td>\n    </tr>\n  </tbody>\n</table>\n<p>1000 rows × 7 columns</p>\n</div>"
     },
     "execution_count": 23,
     "metadata": {},
     "output_type": "execute_result"
    }
   ],
   "source": [
    "data"
   ],
   "metadata": {
    "collapsed": false,
    "pycharm": {
     "name": "#%%\n"
    }
   }
  },
  {
   "cell_type": "code",
   "execution_count": 28,
   "outputs": [],
   "source": [
    "# plots"
   ],
   "metadata": {
    "collapsed": false,
    "pycharm": {
     "name": "#%%\n"
    }
   }
  },
  {
   "cell_type": "code",
   "execution_count": 28,
   "outputs": [],
   "source": [],
   "metadata": {
    "collapsed": false,
    "pycharm": {
     "name": "#%%\n"
    }
   }
  },
  {
   "cell_type": "code",
   "execution_count": null,
   "outputs": [],
   "source": [],
   "metadata": {
    "collapsed": false,
    "pycharm": {
     "name": "#%%\n"
    }
   }
  }
 ],
 "metadata": {
  "kernelspec": {
   "display_name": "Python 3",
   "language": "python",
   "name": "python3"
  },
  "language_info": {
   "codemirror_mode": {
    "name": "ipython",
    "version": 2
   },
   "file_extension": ".py",
   "mimetype": "text/x-python",
   "name": "python",
   "nbconvert_exporter": "python",
   "pygments_lexer": "ipython2",
   "version": "2.7.6"
  }
 },
 "nbformat": 4,
 "nbformat_minor": 0
}