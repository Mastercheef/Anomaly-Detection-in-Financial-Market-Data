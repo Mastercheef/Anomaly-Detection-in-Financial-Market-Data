{
 "cells": [
  {
   "cell_type": "code",
   "execution_count": 1,
   "metadata": {
    "collapsed": true
   },
   "outputs": [],
   "source": [
    "from Simulation import sim_table"
   ]
  },
  {
   "cell_type": "code",
   "execution_count": 2,
   "outputs": [
    {
     "name": "stdout",
     "output_type": "stream",
     "text": [
      "running time: 9.11 min, with n=10\n"
     ]
    },
    {
     "data": {
      "text/plain": "     Features Returns         Diff          RSV       RSV and Diff  \\\n  Jumps/steps  CutOff    IF CutOff    IF CutOff    IF           IF   \n0      0.0002    0.91  0.43   0.85  0.82   0.90  0.41         0.45   \n1      0.0010    0.89  0.51   0.83  0.79   0.89  0.52         0.57   \n2      0.0020    0.88  0.54   0.81  0.76   0.88  0.57         0.61   \n3      0.0050    0.87  0.60   0.79  0.74   0.86  0.62         0.65   \n4      0.0100    0.87  0.64   0.78  0.73   0.86  0.65         0.67   \n5      0.0200    0.87  0.67   0.77  0.72   0.86  0.68         0.69   \n\n  Returns,RSV and Diff  \n                    IF  \n0                 0.59  \n1                 0.67  \n2                 0.68  \n3                 0.70  \n4                 0.72  \n5                 0.73  ",
      "text/html": "<div>\n<style scoped>\n    .dataframe tbody tr th:only-of-type {\n        vertical-align: middle;\n    }\n\n    .dataframe tbody tr th {\n        vertical-align: top;\n    }\n\n    .dataframe thead tr th {\n        text-align: left;\n    }\n</style>\n<table border=\"1\" class=\"dataframe\">\n  <thead>\n    <tr>\n      <th></th>\n      <th>Features</th>\n      <th colspan=\"2\" halign=\"left\">Returns</th>\n      <th colspan=\"2\" halign=\"left\">Diff</th>\n      <th colspan=\"2\" halign=\"left\">RSV</th>\n      <th>RSV and Diff</th>\n      <th>Returns,RSV and Diff</th>\n    </tr>\n    <tr>\n      <th></th>\n      <th>Jumps/steps</th>\n      <th>CutOff</th>\n      <th>IF</th>\n      <th>CutOff</th>\n      <th>IF</th>\n      <th>CutOff</th>\n      <th>IF</th>\n      <th>IF</th>\n      <th>IF</th>\n    </tr>\n  </thead>\n  <tbody>\n    <tr>\n      <th>0</th>\n      <td>0.0002</td>\n      <td>0.91</td>\n      <td>0.43</td>\n      <td>0.85</td>\n      <td>0.82</td>\n      <td>0.90</td>\n      <td>0.41</td>\n      <td>0.45</td>\n      <td>0.59</td>\n    </tr>\n    <tr>\n      <th>1</th>\n      <td>0.0010</td>\n      <td>0.89</td>\n      <td>0.51</td>\n      <td>0.83</td>\n      <td>0.79</td>\n      <td>0.89</td>\n      <td>0.52</td>\n      <td>0.57</td>\n      <td>0.67</td>\n    </tr>\n    <tr>\n      <th>2</th>\n      <td>0.0020</td>\n      <td>0.88</td>\n      <td>0.54</td>\n      <td>0.81</td>\n      <td>0.76</td>\n      <td>0.88</td>\n      <td>0.57</td>\n      <td>0.61</td>\n      <td>0.68</td>\n    </tr>\n    <tr>\n      <th>3</th>\n      <td>0.0050</td>\n      <td>0.87</td>\n      <td>0.60</td>\n      <td>0.79</td>\n      <td>0.74</td>\n      <td>0.86</td>\n      <td>0.62</td>\n      <td>0.65</td>\n      <td>0.70</td>\n    </tr>\n    <tr>\n      <th>4</th>\n      <td>0.0100</td>\n      <td>0.87</td>\n      <td>0.64</td>\n      <td>0.78</td>\n      <td>0.73</td>\n      <td>0.86</td>\n      <td>0.65</td>\n      <td>0.67</td>\n      <td>0.72</td>\n    </tr>\n    <tr>\n      <th>5</th>\n      <td>0.0200</td>\n      <td>0.87</td>\n      <td>0.67</td>\n      <td>0.77</td>\n      <td>0.72</td>\n      <td>0.86</td>\n      <td>0.68</td>\n      <td>0.69</td>\n      <td>0.73</td>\n    </tr>\n  </tbody>\n</table>\n</div>"
     },
     "execution_count": 2,
     "metadata": {},
     "output_type": "execute_result"
    }
   ],
   "source": [
    "n = 10\n",
    "sim_table(n=n)"
   ],
   "metadata": {
    "collapsed": false,
    "pycharm": {
     "name": "#%%\n"
    }
   }
  },
  {
   "cell_type": "markdown",
   "source": [
    "### 2/10000, 10/10000, 20/10000, 50/10000, 100/10000, 200/10000\n",
    "\n",
    "![](../../../Desktop/tabelle.png)"
   ],
   "metadata": {
    "collapsed": false,
    "pycharm": {
     "name": "#%% md\n"
    }
   }
  },
  {
   "cell_type": "markdown",
   "source": [
    "![](../../../Desktop/tabelle2.png)"
   ],
   "metadata": {
    "collapsed": false,
    "pycharm": {
     "name": "#%% md\n"
    }
   }
  },
  {
   "cell_type": "markdown",
   "source": [
    "for larger jump-rates, the Return feature works better and for\n",
    "two jump-rates is the highest."
   ],
   "metadata": {
    "collapsed": false,
    "pycharm": {
     "name": "#%% md\n"
    }
   }
  }
 ],
 "metadata": {
  "kernelspec": {
   "display_name": "Python 3",
   "language": "python",
   "name": "python3"
  },
  "language_info": {
   "codemirror_mode": {
    "name": "ipython",
    "version": 2
   },
   "file_extension": ".py",
   "mimetype": "text/x-python",
   "name": "python",
   "nbconvert_exporter": "python",
   "pygments_lexer": "ipython2",
   "version": "2.7.6"
  }
 },
 "nbformat": 4,
 "nbformat_minor": 0
}