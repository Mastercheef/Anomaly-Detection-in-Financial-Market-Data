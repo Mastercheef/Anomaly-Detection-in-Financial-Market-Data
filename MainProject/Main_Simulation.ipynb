{
 "cells": [
  {
   "cell_type": "markdown",
   "source": [
    "## <center> Anomalieerkennung in Finanzmarktdaten\n",
    "###  <center>  mithilfe von Isolation Forest und Merkmalen\n",
    "\n",
    "\n",
    "### Projekt zur Datenanalyse (H-BRS)\n",
    "___\n",
    "\n",
    "## Auswertung der Methoden\n",
    "\n",
    "&nbsp;\n",
    "\n",
    "**Autoren:** &nbsp;Erik Autenrieth, Pierre Zimmermann &nbsp;\n",
    "\n",
    "**Datum:** &nbsp;&nbsp;&nbsp;&nbsp;  06.12.2021\n",
    "\n",
    "___"
   ],
   "metadata": {
    "collapsed": false,
    "pycharm": {
     "name": "#%% md\n"
    }
   }
  },
  {
   "cell_type": "code",
   "execution_count": null,
   "outputs": [],
   "source": [
    "from Simulation import sim_table"
   ],
   "metadata": {
    "collapsed": false,
    "pycharm": {
     "name": "#%%\n",
     "is_executing": true
    }
   }
  },
  {
   "cell_type": "code",
   "execution_count": null,
   "outputs": [],
   "source": [
    "n = 10\n",
    "sim_table(n=n)"
   ],
   "metadata": {
    "collapsed": false,
    "pycharm": {
     "name": "#%%\n",
     "is_executing": true
    }
   }
  },
  {
   "cell_type": "markdown",
   "source": [
    "\n",
    "\n",
    "![](../../../Desktop/tabelle.png)"
   ],
   "metadata": {
    "collapsed": false,
    "pycharm": {
     "name": "#%% md\n"
    }
   }
  },
  {
   "cell_type": "markdown",
   "source": [
    "![](../../../Desktop/tabelle2.png)"
   ],
   "metadata": {
    "collapsed": false,
    "pycharm": {
     "name": "#%% md\n"
    }
   }
  },
  {
   "cell_type": "code",
   "source": [
    "cutoff_return_traehold = [0.01,0.011,0.009,0.012,0.015,0.033]\n",
    "cutoff_rsv_traehold = [0.00015,0.00011,0.00014,0.00022,0.00031,0.0008]\n",
    "cutoff_diff_traehold = [0.0001,0.00007,0.00007,0.00009,0.00015,0.0006]"
   ],
   "metadata": {
    "collapsed": false,
    "pycharm": {
     "name": "#%%\n",
     "is_executing": true
    }
   },
   "execution_count": null,
   "outputs": []
  },
  {
   "cell_type": "code",
   "execution_count": null,
   "outputs": [],
   "source": [
    "diff_opt1 = [101, 55, 17,80, 8, 4]\n",
    "diff_opti2 = [101, 49, 77, 32, 12, 3]\n",
    "diff_op3 = [101, 76, 101, 54, 35, 55, 65, 10, 101, 43, 67, 11, 111, 10, 29, 70, 19, 11, 15, 3, 66, 4, 6, 56, 3, 6, 4, 8, 4, 3]\n",
    "return_opt1 = [53, 12, 98, 0, 31, 83, 101, 83, 23, 82, 102, 30, 99, 95, 44, 66, 64, 52, 23, 48, 21, 74, 46, 10, 90, 4, 41, 18, 5, 47]\n"
   ],
   "metadata": {
    "collapsed": false,
    "pycharm": {
     "name": "#%%\n",
     "is_executing": true
    }
   }
  }
 ],
 "metadata": {
  "kernelspec": {
   "display_name": "Python 3",
   "language": "python",
   "name": "python3"
  },
  "language_info": {
   "codemirror_mode": {
    "name": "ipython",
    "version": 2
   },
   "file_extension": ".py",
   "mimetype": "text/x-python",
   "name": "python",
   "nbconvert_exporter": "python",
   "pygments_lexer": "ipython2",
   "version": "2.7.6"
  }
 },
 "nbformat": 4,
 "nbformat_minor": 0
}