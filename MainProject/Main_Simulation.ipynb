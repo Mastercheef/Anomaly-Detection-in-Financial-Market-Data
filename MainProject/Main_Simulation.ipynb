{
 "cells": [
  {
   "cell_type": "markdown",
   "source": [
    "## <center> Anomalieerkennung in Finanzmarktdaten\n",
    "###  <center>  mithilfe von Isolation Forest und Merkmalen\n",
    "\n",
    "\n",
    "### Projekt zur Datenanalyse (H-BRS)\n",
    "___\n",
    "\n",
    "## Auswertung der Methoden\n",
    "\n",
    "&nbsp;\n",
    "\n",
    "**Autoren:** &nbsp;Erik Autenrieth, Pierre Zimmermann &nbsp;\n",
    "\n",
    "**Datum:** &nbsp;&nbsp;&nbsp;&nbsp;  06.12.2021\n",
    "\n",
    "___"
   ],
   "metadata": {
    "collapsed": false,
    "pycharm": {
     "name": "#%% md\n"
    }
   }
  },
  {
   "cell_type": "code",
   "execution_count": 1,
   "outputs": [],
   "source": [
    "from Simulation import sim_table"
   ],
   "metadata": {
    "collapsed": false,
    "pycharm": {
     "name": "#%%\n"
    }
   }
  },
  {
   "cell_type": "code",
   "execution_count": 2,
   "outputs": [
    {
     "name": "stderr",
     "output_type": "stream",
     "text": [
      "C:\\Users\\eaut2\\anaconda3\\lib\\site-packages\\sklearn\\metrics\\_classification.py:1464: UndefinedMetricWarning: F-score is ill-defined and being set to 0.0 due to no true nor predicted samples. Use `zero_division` parameter to control this behavior.\n",
      "  _warn_prf(\n"
     ]
    },
    {
     "name": "stdout",
     "output_type": "stream",
     "text": [
      "running time: 5.71 min, with n=5\n"
     ]
    },
    {
     "data": {
      "text/plain": "     Features Returns         Diff          RSV       RSV and Diff  \\\n  Jumps/steps  CutOff    IF CutOff    IF CutOff    IF           IF   \n0      0.0002    0.56  0.48   0.52  0.48   0.56  0.48         0.48   \n1      0.0010    0.67  0.54   0.63  0.51   0.67  0.54         0.54   \n2      0.0020    0.73  0.62   0.68  0.58   0.72  0.62         0.61   \n3      0.0050    0.76  0.66   0.69  0.61   0.76  0.66         0.65   \n4      0.0100    0.78  0.69   0.70  0.63   0.77  0.69         0.67   \n5      0.0200    0.79  0.71   0.71  0.65   0.79  0.71         0.69   \n\n  Returns,RSV and Diff  \n                    IF  \n0                 0.48  \n1                 0.54  \n2                 0.61  \n3                 0.65  \n4                 0.68  \n5                 0.70  ",
      "text/html": "<div>\n<style scoped>\n    .dataframe tbody tr th:only-of-type {\n        vertical-align: middle;\n    }\n\n    .dataframe tbody tr th {\n        vertical-align: top;\n    }\n\n    .dataframe thead tr th {\n        text-align: left;\n    }\n</style>\n<table border=\"1\" class=\"dataframe\">\n  <thead>\n    <tr>\n      <th></th>\n      <th>Features</th>\n      <th colspan=\"2\" halign=\"left\">Returns</th>\n      <th colspan=\"2\" halign=\"left\">Diff</th>\n      <th colspan=\"2\" halign=\"left\">RSV</th>\n      <th>RSV and Diff</th>\n      <th>Returns,RSV and Diff</th>\n    </tr>\n    <tr>\n      <th></th>\n      <th>Jumps/steps</th>\n      <th>CutOff</th>\n      <th>IF</th>\n      <th>CutOff</th>\n      <th>IF</th>\n      <th>CutOff</th>\n      <th>IF</th>\n      <th>IF</th>\n      <th>IF</th>\n    </tr>\n  </thead>\n  <tbody>\n    <tr>\n      <th>0</th>\n      <td>0.0002</td>\n      <td>0.56</td>\n      <td>0.48</td>\n      <td>0.52</td>\n      <td>0.48</td>\n      <td>0.56</td>\n      <td>0.48</td>\n      <td>0.48</td>\n      <td>0.48</td>\n    </tr>\n    <tr>\n      <th>1</th>\n      <td>0.0010</td>\n      <td>0.67</td>\n      <td>0.54</td>\n      <td>0.63</td>\n      <td>0.51</td>\n      <td>0.67</td>\n      <td>0.54</td>\n      <td>0.54</td>\n      <td>0.54</td>\n    </tr>\n    <tr>\n      <th>2</th>\n      <td>0.0020</td>\n      <td>0.73</td>\n      <td>0.62</td>\n      <td>0.68</td>\n      <td>0.58</td>\n      <td>0.72</td>\n      <td>0.62</td>\n      <td>0.61</td>\n      <td>0.61</td>\n    </tr>\n    <tr>\n      <th>3</th>\n      <td>0.0050</td>\n      <td>0.76</td>\n      <td>0.66</td>\n      <td>0.69</td>\n      <td>0.61</td>\n      <td>0.76</td>\n      <td>0.66</td>\n      <td>0.65</td>\n      <td>0.65</td>\n    </tr>\n    <tr>\n      <th>4</th>\n      <td>0.0100</td>\n      <td>0.78</td>\n      <td>0.69</td>\n      <td>0.70</td>\n      <td>0.63</td>\n      <td>0.77</td>\n      <td>0.69</td>\n      <td>0.67</td>\n      <td>0.68</td>\n    </tr>\n    <tr>\n      <th>5</th>\n      <td>0.0200</td>\n      <td>0.79</td>\n      <td>0.71</td>\n      <td>0.71</td>\n      <td>0.65</td>\n      <td>0.79</td>\n      <td>0.71</td>\n      <td>0.69</td>\n      <td>0.70</td>\n    </tr>\n  </tbody>\n</table>\n</div>"
     },
     "execution_count": 2,
     "metadata": {},
     "output_type": "execute_result"
    }
   ],
   "source": [
    "n = 5\n",
    "sim_table(n=n)"
   ],
   "metadata": {
    "collapsed": false,
    "pycharm": {
     "name": "#%%\n"
    }
   }
  },
  {
   "cell_type": "markdown",
   "source": [
    "\n",
    "\n",
    "![](../../../Desktop/tabelle.png)"
   ],
   "metadata": {
    "collapsed": false,
    "pycharm": {
     "name": "#%% md\n"
    }
   }
  },
  {
   "cell_type": "markdown",
   "source": [
    "![](../../../Desktop/tabelle2.png)"
   ],
   "metadata": {
    "collapsed": false,
    "pycharm": {
     "name": "#%% md\n"
    }
   }
  },
  {
   "cell_type": "code",
   "source": [
    "cutoff_return_traehold = [0.01,0.011,0.009,0.012,0.015,0.033]\n",
    "cutoff_rsv_traehold = [0.00015,0.00011,0.00014,0.00022,0.00031,0.0008]\n",
    "cutoff_diff_traehold = [0.0001,0.00007,0.00007,0.00009,0.00015,0.0006]"
   ],
   "metadata": {
    "collapsed": false,
    "pycharm": {
     "name": "#%%\n"
    }
   },
   "execution_count": 3,
   "outputs": []
  },
  {
   "cell_type": "code",
   "execution_count": 4,
   "outputs": [],
   "source": [
    "diff_opt1 = [101, 55, 17,80, 8, 4]\n",
    "diff_opti2 = [101, 49, 77, 32, 12, 3]\n",
    "diff_op3 = [101, 76, 101, 54, 35, 55, 65, 10, 101, 43, 67, 11, 111, 10, 29, 70, 19, 11, 15, 3, 66, 4, 6, 56, 3, 6, 4, 8, 4, 3]\n",
    "return_opt1 = [53, 12, 98, 0, 31, 83, 101, 83, 23, 82, 102, 30, 99, 95, 44, 66, 64, 52, 23, 48, 21, 74, 46, 10, 90, 4, 41, 18, 5, 47]\n"
   ],
   "metadata": {
    "collapsed": false,
    "pycharm": {
     "name": "#%%\n"
    }
   }
  }
 ],
 "metadata": {
  "kernelspec": {
   "display_name": "Python 3",
   "language": "python",
   "name": "python3"
  },
  "language_info": {
   "codemirror_mode": {
    "name": "ipython",
    "version": 2
   },
   "file_extension": ".py",
   "mimetype": "text/x-python",
   "name": "python",
   "nbconvert_exporter": "python",
   "pygments_lexer": "ipython2",
   "version": "2.7.6"
  }
 },
 "nbformat": 4,
 "nbformat_minor": 0
}