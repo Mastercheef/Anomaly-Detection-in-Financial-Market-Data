{
 "cells": [
  {
   "cell_type": "markdown",
   "source": [
    "## <center> Anomalieerkennung in Finanzmarktdaten\n",
    "###  <center>  mithilfe von Isolation Forest und Merkmalen\n",
    "\n",
    "\n",
    "### Projekt zur Datenanalyse (H-BRS)\n",
    "___\n",
    "\n",
    "## Auswertung der Methoden\n",
    "\n",
    "&nbsp;\n",
    "\n",
    "**Autoren:** &nbsp;Erik Autenrieth, Pierre Zimmermann &nbsp;\n",
    "\n",
    "**Datum:** &nbsp;&nbsp;&nbsp;&nbsp;  06.12.2021\n",
    "\n",
    "___"
   ],
   "metadata": {
    "collapsed": false,
    "pycharm": {
     "name": "#%% md\n"
    }
   }
  },
  {
   "cell_type": "code",
   "execution_count": 1,
   "outputs": [],
   "source": [
    "from Simulation import sim_table"
   ],
   "metadata": {
    "collapsed": false,
    "pycharm": {
     "name": "#%%\n"
    }
   }
  },
  {
   "cell_type": "code",
   "execution_count": 2,
   "outputs": [
    {
     "name": "stdout",
     "output_type": "stream",
     "text": [
      "running time: 10.68 min, with n=10\n"
     ]
    },
    {
     "data": {
      "text/plain": "     Features Returns         Diff          RSV       RSV and Diff  \\\n  Jumps/steps  CutOff    IF CutOff    IF CutOff    IF           IF   \n0      0.0002    0.85  0.46   0.85  0.50   0.85  0.45         0.45   \n1      0.0010    0.89  0.57   0.84  0.67   0.88  0.59         0.61   \n2      0.0020    0.89  0.63   0.82  0.68   0.88  0.65         0.68   \n3      0.0050    0.90  0.68   0.81  0.69   0.88  0.70         0.72   \n4      0.0100    0.90  0.71   0.80  0.69   0.87  0.73         0.74   \n5      0.0200    0.90  0.74   0.80  0.70   0.87  0.75         0.75   \n\n  Returns,RSV and Diff  \n                    IF  \n0                 0.46  \n1                 0.62  \n2                 0.67  \n3                 0.72  \n4                 0.74  \n5                 0.76  ",
      "text/html": "<div>\n<style scoped>\n    .dataframe tbody tr th:only-of-type {\n        vertical-align: middle;\n    }\n\n    .dataframe tbody tr th {\n        vertical-align: top;\n    }\n\n    .dataframe thead tr th {\n        text-align: left;\n    }\n</style>\n<table border=\"1\" class=\"dataframe\">\n  <thead>\n    <tr>\n      <th></th>\n      <th>Features</th>\n      <th colspan=\"2\" halign=\"left\">Returns</th>\n      <th colspan=\"2\" halign=\"left\">Diff</th>\n      <th colspan=\"2\" halign=\"left\">RSV</th>\n      <th>RSV and Diff</th>\n      <th>Returns,RSV and Diff</th>\n    </tr>\n    <tr>\n      <th></th>\n      <th>Jumps/steps</th>\n      <th>CutOff</th>\n      <th>IF</th>\n      <th>CutOff</th>\n      <th>IF</th>\n      <th>CutOff</th>\n      <th>IF</th>\n      <th>IF</th>\n      <th>IF</th>\n    </tr>\n  </thead>\n  <tbody>\n    <tr>\n      <th>0</th>\n      <td>0.0002</td>\n      <td>0.85</td>\n      <td>0.46</td>\n      <td>0.85</td>\n      <td>0.50</td>\n      <td>0.85</td>\n      <td>0.45</td>\n      <td>0.45</td>\n      <td>0.46</td>\n    </tr>\n    <tr>\n      <th>1</th>\n      <td>0.0010</td>\n      <td>0.89</td>\n      <td>0.57</td>\n      <td>0.84</td>\n      <td>0.67</td>\n      <td>0.88</td>\n      <td>0.59</td>\n      <td>0.61</td>\n      <td>0.62</td>\n    </tr>\n    <tr>\n      <th>2</th>\n      <td>0.0020</td>\n      <td>0.89</td>\n      <td>0.63</td>\n      <td>0.82</td>\n      <td>0.68</td>\n      <td>0.88</td>\n      <td>0.65</td>\n      <td>0.68</td>\n      <td>0.67</td>\n    </tr>\n    <tr>\n      <th>3</th>\n      <td>0.0050</td>\n      <td>0.90</td>\n      <td>0.68</td>\n      <td>0.81</td>\n      <td>0.69</td>\n      <td>0.88</td>\n      <td>0.70</td>\n      <td>0.72</td>\n      <td>0.72</td>\n    </tr>\n    <tr>\n      <th>4</th>\n      <td>0.0100</td>\n      <td>0.90</td>\n      <td>0.71</td>\n      <td>0.80</td>\n      <td>0.69</td>\n      <td>0.87</td>\n      <td>0.73</td>\n      <td>0.74</td>\n      <td>0.74</td>\n    </tr>\n    <tr>\n      <th>5</th>\n      <td>0.0200</td>\n      <td>0.90</td>\n      <td>0.74</td>\n      <td>0.80</td>\n      <td>0.70</td>\n      <td>0.87</td>\n      <td>0.75</td>\n      <td>0.75</td>\n      <td>0.76</td>\n    </tr>\n  </tbody>\n</table>\n</div>"
     },
     "execution_count": 2,
     "metadata": {},
     "output_type": "execute_result"
    }
   ],
   "source": [
    "n = 10\n",
    "sim_table(n=n)"
   ],
   "metadata": {
    "collapsed": false,
    "pycharm": {
     "name": "#%%\n"
    }
   }
  },
  {
   "cell_type": "markdown",
   "source": [
    "\n",
    "\n",
    "![](../../../Desktop/tabelle.png)"
   ],
   "metadata": {
    "collapsed": false,
    "pycharm": {
     "name": "#%% md\n"
    }
   }
  },
  {
   "cell_type": "markdown",
   "source": [
    "![](../../../Desktop/tabelle2.png)"
   ],
   "metadata": {
    "collapsed": false,
    "pycharm": {
     "name": "#%% md\n"
    }
   }
  },
  {
   "cell_type": "code",
   "source": [
    "cutoff_return_traehold = [0.01,0.011,0.009,0.012,0.015,0.033]\n",
    "cutoff_rsv_traehold = [0.00015,0.00011,0.00014,0.00022,0.00031,0.0008]\n",
    "cutoff_diff_traehold = [0.0001,0.00007,0.00007,0.00009,0.00015,0.0006]"
   ],
   "metadata": {
    "collapsed": false,
    "pycharm": {
     "name": "#%%\n"
    }
   },
   "execution_count": 3,
   "outputs": []
  },
  {
   "cell_type": "code",
   "execution_count": 3,
   "outputs": [],
   "source": [
    "diff_opti = [101, 55, 17,80, 8, 4]\n"
   ],
   "metadata": {
    "collapsed": false,
    "pycharm": {
     "name": "#%%\n"
    }
   }
  }
 ],
 "metadata": {
  "kernelspec": {
   "display_name": "Python 3",
   "language": "python",
   "name": "python3"
  },
  "language_info": {
   "codemirror_mode": {
    "name": "ipython",
    "version": 2
   },
   "file_extension": ".py",
   "mimetype": "text/x-python",
   "name": "python",
   "nbconvert_exporter": "python",
   "pygments_lexer": "ipython2",
   "version": "2.7.6"
  }
 },
 "nbformat": 4,
 "nbformat_minor": 0
}