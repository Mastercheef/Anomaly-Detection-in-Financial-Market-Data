{
 "cells": [
  {
   "cell_type": "code",
   "execution_count": 21,
   "metadata": {
    "collapsed": true
   },
   "outputs": [],
   "source": [
    "# Confusion matrix\n",
    "from sklearn.metrics import classification_report\n",
    "from sklearn.metrics import confusion_matrix\n",
    "from sklearn.metrics import recall_score\n",
    "from sklearn.metrics import roc_auc_score\n",
    "from sklearn.metrics import make_scorer\n",
    "from sklearn.metrics import accuracy_score\n",
    "\n",
    "\n",
    "# Vorbereitung\n",
    "from sklearn import datasets\n",
    "from sklearn import preprocessing\n",
    "from sklearn.model_selection import train_test_split\n",
    "from sklearn.model_selection import GridSearchCV\n",
    "from sklearn.metrics import f1_score\n",
    "from sklearn.ensemble import IsolationForest\n",
    "\n",
    "import Builder\n",
    "import pandas as pd\n",
    "import seaborn as sns\n",
    "import numpy as np\n",
    "import itertools\n",
    "import matplotlib.pyplot as plt\n",
    "\n",
    "%matplotlib inline"
   ]
  },
  {
   "cell_type": "code",
   "execution_count": 22,
   "outputs": [],
   "source": [
    "def plot_confusion_matrix(cm):\n",
    "    cm_perc = cm.astype('float') / cm.sum(axis=1)[:,np.newaxis]\n",
    "    cf_matrix = cm\n",
    "    group_names = ['TN','FP','FN','TP']\n",
    "    group_counts = ['{0:0.0f}'.format(value) for value in cf_matrix.flatten()]\n",
    "    #group_percentages = ['{0:.2%}'.format(value) for value in cf_matrix.flatten()/np.sum(cf_matrix)]\n",
    "    labels = [f'{v1}\\n{v2}' for v1, v2 in zip(group_names,group_counts)]\n",
    "    labels = np.asarray(labels).reshape(2,2)\n",
    "\n",
    "    ax = plt.subplot()\n",
    "    sns.heatmap(cf_matrix, annot=labels,fmt='', cmap='magma' )\n",
    "    ax.set_xlabel('Predicted lables')\n",
    "    ax.set_ylabel('True lables')\n",
    "    ax.set_title('Confusion Matrix ')\n",
    "    ax.xaxis.set_ticklabels(['normal', 'anomaly']); ax.yaxis.set_ticklabels(['normal','anomaly'])\n",
    "    plt.show()\n",
    "\n",
    "    ax = plt.subplot()\n",
    "    sns.heatmap(cm_perc, annot=True,fmt='.2%', cmap='Blues' )\n",
    "    ax.set_xlabel('Predicted lables')\n",
    "    ax.set_ylabel('True lables')\n",
    "    ax.set_title('Confusion Matrix normalize')\n",
    "    ax.xaxis.set_ticklabels(['normal', 'anomaly']); ax.yaxis.set_ticklabels(['normal','anomaly'])\n",
    "    plt.show()\n",
    "\n",
    "\n",
    "def class_report(data, label):\n",
    "    print(classification_report(data['Jumps'], data[label], target_names=['normal','outlier']))"
   ],
   "metadata": {
    "collapsed": false,
    "pycharm": {
     "name": "#%%\n"
    }
   }
  },
  {
   "cell_type": "code",
   "execution_count": 23,
   "outputs": [
    {
     "name": "stdout",
     "output_type": "stream",
     "text": [
      "Anomaly merton: 0 of 9 anomalies (0.0 %) in total: 10\n",
      "-----------------------------\n",
      "Anomaly Returns IF: 9 of 9 anomalies (100.0 %) in total: 10\n",
      "-----------------------------\n",
      "Anomaly RSV IF: 9 of 9 anomalies (100.0 %) in total: 10\n",
      "-----------------------------\n",
      "Anomaly Diff IF: 7 of 9 anomalies (78.0 %) in total: 9\n",
      "-----------------------------\n",
      "Amomaly RSV Diff: 8 of 9 anomalies (89.0 %) in total: 10\n",
      "-----------------------------\n",
      "Amomaly Returns RSV Diff: 8 of 9 anomalies (89.0 %) in total: 10\n",
      "-----------------------------\n",
      "Cutoff Jump: 7 of 9 anomalies (78.0 %) in total: 8\n",
      "-----------------------------\n",
      "CutOff Return: 7 of 9 anomalies (78.0 %) in total: 8\n",
      "-----------------------------\n",
      "CutOff RSV: 7 of 9 anomalies (78.0 %) in total: 8\n",
      "-----------------------------\n",
      "CutOff Diff: 7 of 9 anomalies (78.0 %) in total: 8\n",
      "-----------------------------\n",
      "IF Return:  0.947\n",
      "Cutoff Return:  1.0\n",
      "---------------------\n",
      "IF Diff:  0.778\n",
      "Cutoff Diff:  0.824\n",
      "---------------------\n",
      "IF RSV:  0.947\n",
      "Cutoff RSV:  1.0\n",
      "---------------------\n",
      "IF RSV diff:  0.842\n",
      "IF Return RSV diff:  0.842\n",
      "---------------------\n"
     ]
    }
   ],
   "source": [
    "data = Builder.simulation_test(S=1.0, T=1, r=0.02, m=0, v=0.055, l=10, step=1000, Npaths=1, sigma=0.35,N=1,print_f1=True)"
   ],
   "metadata": {
    "collapsed": false,
    "pycharm": {
     "name": "#%%\n"
    }
   }
  },
  {
   "cell_type": "code",
   "execution_count": 24,
   "outputs": [
    {
     "name": "stdout",
     "output_type": "stream",
     "text": [
      "              precision    recall  f1-score   support\n",
      "\n",
      "      normal       0.99      0.99      0.99       991\n",
      "     outlier       0.00      0.00      0.00         9\n",
      "\n",
      "    accuracy                           0.98      1000\n",
      "   macro avg       0.50      0.49      0.50      1000\n",
      "weighted avg       0.98      0.98      0.98      1000\n",
      "\n"
     ]
    }
   ],
   "source": [
    "class_report(data,'Anomaly merton')"
   ],
   "metadata": {
    "collapsed": false,
    "pycharm": {
     "name": "#%%\n"
    }
   }
  },
  {
   "cell_type": "code",
   "execution_count": 25,
   "outputs": [
    {
     "data": {
      "text/plain": "<Figure size 432x288 with 2 Axes>",
      "image/png": "[encoded data removed]"
     },
     "metadata": {
      "needs_background": "light"
     },
     "output_type": "display_data"
    },
    {
     "data": {
      "text/plain": "<Figure size 432x288 with 2 Axes>",
      "image/png": "[encoded data removed]"
     },
     "metadata": {
      "needs_background": "light"
     },
     "output_type": "display_data"
    }
   ],
   "source": [
    "cm = confusion_matrix(data['Jumps'], data['Anomaly merton'])\n",
    "plot_confusion_matrix(cm)"
   ],
   "metadata": {
    "collapsed": false,
    "pycharm": {
     "name": "#%%\n"
    }
   }
  },
  {
   "cell_type": "code",
   "execution_count": 26,
   "outputs": [],
   "source": [
    "# precision = TP / TP+FP   # recall = TP / TP+FN\n",
    "# interested in recall !!"
   ],
   "metadata": {
    "collapsed": false,
    "pycharm": {
     "name": "#%%\n"
    }
   }
  },
  {
   "cell_type": "code",
   "execution_count": 27,
   "outputs": [
    {
     "name": "stdout",
     "output_type": "stream",
     "text": [
      "CutOff Diff\n",
      "              precision    recall  f1-score   support\n",
      "\n",
      "      normal       1.00      1.00      1.00       991\n",
      "     outlier       0.88      0.78      0.82         9\n",
      "\n",
      "    accuracy                           1.00      1000\n",
      "   macro avg       0.94      0.89      0.91      1000\n",
      "weighted avg       1.00      1.00      1.00      1000\n",
      "\n"
     ]
    },
    {
     "data": {
      "text/plain": "0.823529411764706"
     },
     "execution_count": 27,
     "metadata": {},
     "output_type": "execute_result"
    }
   ],
   "source": [
    "print('CutOff Diff')\n",
    "class_report(data,'CutOff Diff')\n",
    "f1_score(data['Jumps'], data['CutOff Diff'])"
   ],
   "metadata": {
    "collapsed": false,
    "pycharm": {
     "name": "#%%\n"
    }
   }
  },
  {
   "cell_type": "code",
   "execution_count": 28,
   "outputs": [
    {
     "data": {
      "text/plain": "<Figure size 432x288 with 2 Axes>",
      "image/png": "[encoded data removed]"
     },
     "metadata": {
      "needs_background": "light"
     },
     "output_type": "display_data"
    },
    {
     "data": {
      "text/plain": "<Figure size 432x288 with 2 Axes>",
      "image/png": "[encoded data removed]"
     },
     "metadata": {
      "needs_background": "light"
     },
     "output_type": "display_data"
    }
   ],
   "source": [
    "cm = confusion_matrix(data['Jumps'], data['CutOff Diff'])\n",
    "plot_confusion_matrix(cm)"
   ],
   "metadata": {
    "collapsed": false,
    "pycharm": {
     "name": "#%%\n"
    }
   }
  },
  {
   "cell_type": "code",
   "execution_count": 29,
   "outputs": [],
   "source": [
    "#Builder.plotter(data)\n"
   ],
   "metadata": {
    "collapsed": false,
    "pycharm": {
     "name": "#%%\n"
    }
   }
  },
  {
   "cell_type": "code",
   "execution_count": 30,
   "outputs": [
    {
     "name": "stdout",
     "output_type": "stream",
     "text": [
      "              precision    recall  f1-score   support\n",
      "\n",
      "      normal       1.00      1.00      1.00       663\n",
      "     outlier       0.86      0.86      0.86         7\n",
      "\n",
      "    accuracy                           1.00       670\n",
      "   macro avg       0.93      0.93      0.93       670\n",
      "weighted avg       1.00      1.00      1.00       670\n",
      "\n"
     ]
    }
   ],
   "source": [
    "# Versuch mit Trainingsdaten\n",
    "\n",
    "X_train, X_test, y_train, y_test = train_test_split(data[['Return log']], data[['Jumps']], test_size=0.33,random_state=11)\n",
    "clfIF = IsolationForest(max_samples =0.25, random_state=11, contamination=10/1000, n_estimators=100)\n",
    "clfIF.fit(X_train,y_train)\n",
    "y_pred_train = clfIF.predict(X_train)\n",
    "\n",
    "df = pd.DataFrame(y_pred_train,columns=['Test'])\n",
    "df_list = [0 if i ==1 else 1 for i in df['Test'].to_list()]\n",
    "\n",
    "df['Test'] = df_list\n",
    "print(classification_report(y_train['Jumps'], df['Test'], target_names=['normal','outlier']))"
   ],
   "metadata": {
    "collapsed": false,
    "pycharm": {
     "name": "#%%\n"
    }
   }
  },
  {
   "cell_type": "code",
   "execution_count": 30,
   "outputs": [],
   "source": [],
   "metadata": {
    "collapsed": false,
    "pycharm": {
     "name": "#%%\n"
    }
   }
  }
 ],
 "metadata": {
  "kernelspec": {
   "display_name": "Python 3",
   "language": "python",
   "name": "python3"
  },
  "language_info": {
   "codemirror_mode": {
    "name": "ipython",
    "version": 2
   },
   "file_extension": ".py",
   "mimetype": "text/x-python",
   "name": "python",
   "nbconvert_exporter": "python",
   "pygments_lexer": "ipython2",
   "version": "2.7.6"
  }
 },
 "nbformat": 4,
 "nbformat_minor": 0
}