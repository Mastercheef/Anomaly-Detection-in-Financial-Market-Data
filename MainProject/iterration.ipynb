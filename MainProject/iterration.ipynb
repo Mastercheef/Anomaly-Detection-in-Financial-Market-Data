{
 "cells": [
  {
   "cell_type": "code",
   "execution_count": 20,
   "metadata": {
    "collapsed": true
   },
   "outputs": [],
   "source": [
    "import Builder\n",
    "from sklearn.metrics import f1_score"
   ]
  },
  {
   "cell_type": "markdown",
   "source": [
    "n_estimators refers to the number of base estimators or trees in the ensemble, i.e. the number of trees that will get built in the forest. This is an integer parameter and is optional. The default value is 100."
   ],
   "metadata": {
    "collapsed": false,
    "pycharm": {
     "name": "#%% md\n"
    }
   }
  },
  {
   "cell_type": "code",
   "execution_count": null,
   "outputs": [],
   "source": [
    "nest = 10\n",
    "erg = []\n",
    "best_est = []\n",
    "# for _ in range(10):\n",
    "#     best_est = []\n",
    "#     for i in range(20):\n",
    "#         pct_list = []\n",
    "#         data = Builder.buildMertonDF(n_estimators=nest)\n",
    "#         for _ in range(0,100):\n",
    "#             pct,subset = Builder.subset(data)\n",
    "#             pct_list.append(pct)\n",
    "#         avg_pct = sum(pct_list)/len(pct_list)\n",
    "#         # print('n_estim: ',nest, '->',avg_pct)\n",
    "#         best_est.append((avg_pct,nest))\n",
    "#         nest +=10\n",
    "#         if nest == 150: nest = 10\n",
    "#\n",
    "#     erg.append(max(best_est))\n"
   ],
   "metadata": {
    "collapsed": false,
    "pycharm": {
     "name": "#%%\n"
    }
   }
  },
  {
   "cell_type": "code",
   "execution_count": null,
   "outputs": [],
   "source": [
    "nest = 10\n",
    "erg = []\n",
    "best_est = []\n",
    "\n",
    "for i in range(10):\n",
    "    pct_list = []\n",
    "    data = Builder.buildMertonDF(n_estimators=nest)\n",
    "    for _ in range(0,100):\n",
    "        pct,subset = Builder.subset(data)\n",
    "        pct_list.append(pct)\n",
    "    avg_pct = sum(pct_list)/len(pct_list)\n",
    "    print('n_estim: ',nest, '->',avg_pct)\n",
    "    best_est.append((avg_pct,nest))\n",
    "    nest +=10\n"
   ],
   "metadata": {
    "collapsed": false,
    "pycharm": {
     "name": "#%%\n"
    }
   }
  },
  {
   "cell_type": "code",
   "execution_count": null,
   "outputs": [],
   "source": [],
   "metadata": {
    "collapsed": false,
    "pycharm": {
     "name": "#%%\n"
    }
   }
  },
  {
   "cell_type": "code",
   "execution_count": null,
   "outputs": [],
   "source": [],
   "metadata": {
    "collapsed": false,
    "pycharm": {
     "name": "#%%\n"
    }
   }
  }
 ],
 "metadata": {
  "kernelspec": {
   "display_name": "Python 3",
   "language": "python",
   "name": "python3"
  },
  "language_info": {
   "codemirror_mode": {
    "name": "ipython",
    "version": 2
   },
   "file_extension": ".py",
   "mimetype": "text/x-python",
   "name": "python",
   "nbconvert_exporter": "python",
   "pygments_lexer": "ipython2",
   "version": "2.7.6"
  }
 },
 "nbformat": 4,
 "nbformat_minor": 0
}