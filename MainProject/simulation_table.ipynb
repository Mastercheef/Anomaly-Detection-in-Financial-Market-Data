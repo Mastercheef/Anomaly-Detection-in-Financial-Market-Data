{
 "cells": [
  {
   "cell_type": "code",
   "execution_count": 1,
   "metadata": {
    "collapsed": true
   },
   "outputs": [],
   "source": [
    "import numpy as np\n",
    "import pandas as pd\n",
    "import time\n",
    "import Builder"
   ]
  },
  {
   "cell_type": "code",
   "execution_count": 2,
   "outputs": [],
   "source": [
    "jump_steps = [0.0002, 0.001, 0.002, 0.005,0.01, 0.02]\n",
    "n = 3 # n sollte min 10 sein"
   ],
   "metadata": {
    "collapsed": false,
    "pycharm": {
     "name": "#%%\n"
    }
   }
  },
  {
   "cell_type": "code",
   "execution_count": 3,
   "outputs": [],
   "source": [
    "header = [np.array(['Features', 'Returns', 'Returns', 'Diff', 'Diff','RSV','RSV','RSV and Diff','Returns,RSV and Diff']),\n",
    "          np.array(['Jumps/steps','CutOff','IF','CutOff','IF','CutOff','IF','IF','IF'])]\n",
    "f1_score = pd.DataFrame(columns=header)\n",
    "f1_score['Features'] = jump_steps\n",
    "\n",
    "cutOff_returns,if_returns,cutOff_diff,if_difference,if_rsv_list,cut_rsv_list,rsv_diff_list,r_rsv_diff_list = [],[],[],[],[],[],[],[]\n",
    "returns_cutoff, returns_if, diff_cutoff, diff_if,rsv_cutoff,rsv_if,rsv_diff,r_rsv_diff = [],[],[],[],[],[],[],[]"
   ],
   "metadata": {
    "collapsed": false,
    "pycharm": {
     "name": "#%%\n"
    }
   }
  },
  {
   "cell_type": "code",
   "execution_count": 4,
   "outputs": [
    {
     "name": "stdout",
     "output_type": "stream",
     "text": [
      "Laufzeit: 2.78 min , -> 167.038s mit n=3\n"
     ]
    }
   ],
   "source": [
    "start = time.time()\n",
    "for rate in jump_steps:\n",
    "    for _ in range(0,n,1):\n",
    "        if_ret, if_diff, cut_ret, cut_diff, if_rsv, cut_rsv, rsv_diff_val,r_rsv_diff_val = Builder.simulation(jump_rate=rate)\n",
    "        cutOff_returns.append(cut_ret)\n",
    "        if_returns.append(if_ret)\n",
    "        cutOff_diff.append(cut_diff)\n",
    "        if_difference.append(if_diff)\n",
    "        cut_rsv_list.append(cut_rsv)\n",
    "        if_rsv_list.append(if_rsv)\n",
    "        rsv_diff_list.append(rsv_diff_val)\n",
    "        r_rsv_diff_list.append(r_rsv_diff_val)\n",
    "\n",
    "    returns_cutoff.append(np.round(np.mean(cutOff_returns),2))\n",
    "    returns_if.append(np.round(np.mean(if_returns),2))\n",
    "    diff_cutoff.append(np.round(np.mean(cutOff_diff),2))\n",
    "    diff_if.append(np.round(np.mean(if_difference),2))\n",
    "    rsv_cutoff.append(np.round(np.mean(cut_rsv_list),2))\n",
    "    rsv_if.append(np.round(np.mean(if_rsv_list),2))\n",
    "    rsv_diff.append(np.round(np.mean(rsv_diff_list),2))\n",
    "    r_rsv_diff.append(np.round(np.mean(r_rsv_diff_list),2))\n",
    "\n",
    "end = time.time()\n",
    "sek = end - start\n",
    "print('Laufzeit: {} min , -> {:5.3f}s mit n={}'.format(round(sek/60,2),sek,n))"
   ],
   "metadata": {
    "collapsed": false,
    "pycharm": {
     "name": "#%%\n"
    }
   }
  },
  {
   "cell_type": "code",
   "execution_count": 5,
   "outputs": [
    {
     "data": {
      "text/plain": "     Features Returns         Diff          RSV       RSV and Diff  \\\n  Jumps/steps  CutOff    IF CutOff    IF CutOff    IF           IF   \n0      0.0002    1.00  0.83   1.00  1.00   0.44  0.17         0.44   \n1      0.0010    0.94  0.78   0.90  0.89   0.55  0.37         0.52   \n2      0.0020    0.91  0.76   0.86  0.83   0.51  0.35         0.45   \n3      0.0050    0.89  0.76   0.82  0.79   0.53  0.37         0.48   \n4      0.0100    0.88  0.75   0.81  0.77   0.52  0.37         0.50   \n5      0.0200    0.88  0.76   0.80  0.76   0.53  0.38         0.53   \n\n  Returns,RSV and Diff  \n                    IF  \n0                 0.39  \n1                 0.47  \n2                 0.44  \n3                 0.50  \n4                 0.54  \n5                 0.57  ",
      "text/html": "<div>\n<style scoped>\n    .dataframe tbody tr th:only-of-type {\n        vertical-align: middle;\n    }\n\n    .dataframe tbody tr th {\n        vertical-align: top;\n    }\n\n    .dataframe thead tr th {\n        text-align: left;\n    }\n</style>\n<table border=\"1\" class=\"dataframe\">\n  <thead>\n    <tr>\n      <th></th>\n      <th>Features</th>\n      <th colspan=\"2\" halign=\"left\">Returns</th>\n      <th colspan=\"2\" halign=\"left\">Diff</th>\n      <th colspan=\"2\" halign=\"left\">RSV</th>\n      <th>RSV and Diff</th>\n      <th>Returns,RSV and Diff</th>\n    </tr>\n    <tr>\n      <th></th>\n      <th>Jumps/steps</th>\n      <th>CutOff</th>\n      <th>IF</th>\n      <th>CutOff</th>\n      <th>IF</th>\n      <th>CutOff</th>\n      <th>IF</th>\n      <th>IF</th>\n      <th>IF</th>\n    </tr>\n  </thead>\n  <tbody>\n    <tr>\n      <th>0</th>\n      <td>0.0002</td>\n      <td>1.00</td>\n      <td>0.83</td>\n      <td>1.00</td>\n      <td>1.00</td>\n      <td>0.44</td>\n      <td>0.17</td>\n      <td>0.44</td>\n      <td>0.39</td>\n    </tr>\n    <tr>\n      <th>1</th>\n      <td>0.0010</td>\n      <td>0.94</td>\n      <td>0.78</td>\n      <td>0.90</td>\n      <td>0.89</td>\n      <td>0.55</td>\n      <td>0.37</td>\n      <td>0.52</td>\n      <td>0.47</td>\n    </tr>\n    <tr>\n      <th>2</th>\n      <td>0.0020</td>\n      <td>0.91</td>\n      <td>0.76</td>\n      <td>0.86</td>\n      <td>0.83</td>\n      <td>0.51</td>\n      <td>0.35</td>\n      <td>0.45</td>\n      <td>0.44</td>\n    </tr>\n    <tr>\n      <th>3</th>\n      <td>0.0050</td>\n      <td>0.89</td>\n      <td>0.76</td>\n      <td>0.82</td>\n      <td>0.79</td>\n      <td>0.53</td>\n      <td>0.37</td>\n      <td>0.48</td>\n      <td>0.50</td>\n    </tr>\n    <tr>\n      <th>4</th>\n      <td>0.0100</td>\n      <td>0.88</td>\n      <td>0.75</td>\n      <td>0.81</td>\n      <td>0.77</td>\n      <td>0.52</td>\n      <td>0.37</td>\n      <td>0.50</td>\n      <td>0.54</td>\n    </tr>\n    <tr>\n      <th>5</th>\n      <td>0.0200</td>\n      <td>0.88</td>\n      <td>0.76</td>\n      <td>0.80</td>\n      <td>0.76</td>\n      <td>0.53</td>\n      <td>0.38</td>\n      <td>0.53</td>\n      <td>0.57</td>\n    </tr>\n  </tbody>\n</table>\n</div>"
     },
     "execution_count": 5,
     "metadata": {},
     "output_type": "execute_result"
    }
   ],
   "source": [
    "df = pd.DataFrame([jump_steps,returns_cutoff,returns_if,diff_cutoff,diff_if,rsv_cutoff,rsv_if,rsv_diff,r_rsv_diff])\n",
    "df = df.transpose()\n",
    "df.columns = header\n",
    "df"
   ],
   "metadata": {
    "collapsed": false,
    "pycharm": {
     "name": "#%%\n"
    }
   }
  },
  {
   "cell_type": "markdown",
   "source": [
    "![](../../../Desktop/tabelle.png)"
   ],
   "metadata": {
    "collapsed": false,
    "pycharm": {
     "name": "#%% md\n"
    }
   }
  },
  {
   "cell_type": "code",
   "execution_count": 5,
   "outputs": [],
   "source": [],
   "metadata": {
    "collapsed": false,
    "pycharm": {
     "name": "#%%\n"
    }
   }
  }
 ],
 "metadata": {
  "kernelspec": {
   "display_name": "Python 3",
   "language": "python",
   "name": "python3"
  },
  "language_info": {
   "codemirror_mode": {
    "name": "ipython",
    "version": 2
   },
   "file_extension": ".py",
   "mimetype": "text/x-python",
   "name": "python",
   "nbconvert_exporter": "python",
   "pygments_lexer": "ipython2",
   "version": "2.7.6"
  }
 },
 "nbformat": 4,
 "nbformat_minor": 0
}