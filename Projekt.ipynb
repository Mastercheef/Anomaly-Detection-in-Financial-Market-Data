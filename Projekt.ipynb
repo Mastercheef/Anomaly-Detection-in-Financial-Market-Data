{
 "cells": [
  {
   "cell_type": "markdown",
   "metadata": {
    "collapsed": true,
    "pycharm": {
     "name": "#%% md\n"
    }
   },
   "source": [
    "## <center> Anomalieerkennung in Finanzmarktdaten\n",
    "####  <center>  mithilfe von Isolation Forest und Merkmalen\n",
    "\n",
    "\n",
    "### Projekt zur Datenanalyse (H-BRS)\n",
    "___\n",
    "\n",
    "## Auswertung der Methoden\n",
    "\n",
    "&nbsp;\n",
    "\n",
    "**Autoren:** &nbsp;Erik Autenrieth, Pierre Zimmermann &nbsp;\n",
    "\n",
    "**Datum:** &nbsp;&nbsp;&nbsp;&nbsp;  19.12.2021\n",
    "\n",
    "___"
   ]
  }
 ],
 "metadata": {
  "kernelspec": {
   "display_name": "Python 3",
   "language": "python",
   "name": "python3"
  },
  "language_info": {
   "codemirror_mode": {
    "name": "ipython",
    "version": 2
   },
   "file_extension": ".py",
   "mimetype": "text/x-python",
   "name": "python",
   "nbconvert_exporter": "python",
   "pygments_lexer": "ipython2",
   "version": "2.7.6"
  }
 },
 "nbformat": 4,
 "nbformat_minor": 0
}