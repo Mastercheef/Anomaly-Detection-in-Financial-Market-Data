{
 "cells": [
  {
   "cell_type": "code",
   "execution_count": 1,
   "metadata": {
    "collapsed": true
   },
   "outputs": [],
   "source": [
    "from Stocks.PlotterStock import plotter\n",
    "from Stocks.BuilderStock import acc_score, build_stock\n",
    "from Stocks.StocksLoader import Stocks\n",
    "\n",
    "import pandas as pd"
   ]
  },
  {
   "cell_type": "code",
   "execution_count": 2,
   "outputs": [],
   "source": [
    "faang    = ['FB','AMZN','AAPL','NFLX','GOOG']\n",
    "trending = ['TSLA','AMC','NVDA','GME','ARNA','PFE','HOG','BLU','BMY','ETH-USD','QCOM','MGM','LUPIN.NS','JNJ','SHOP','AXP','AMD']\n",
    "industry_sectors = ['EOAN.DE','RWE.DE','ALV.DE','MUV2.DE','DBK.DE','CBK.DE','NWT.F','AFX.DE','PFE.F','SIX2.DE','DTE.DE','SOBA.F','VODI.DE',\n",
    "                    'TNE5.F','SIE.DE','IFX.DE','SSU.DE','SAP.DE','ZAL.DE','G24.DE','FNTN.DE','ABEC.DE','VOW3.DE','DAI.DE','TOM.DE','ADS.DE',\n",
    "                     'PSM.DE','BOSS.DE','CCC3.DE','PRG.F','LIN.DE','HEI.DE','TKA.DE','TUI1.DE','BRH.F','BAS.DE','BAYN.DE','WMT.F']\n",
    "indizes   = ['^GDAXI', '^MDAXI','^SDAXI','^STOXX50E','^DJI','^GSPC','^IXIC','IMOEX.ME', 'RTSI.ME','^N225','^HSI']"
   ],
   "metadata": {
    "collapsed": false,
    "pycharm": {
     "name": "#%%\n"
    }
   }
  },
  {
   "cell_type": "code",
   "execution_count": 3,
   "outputs": [],
   "source": [
    "trending_stocks = Stocks(faang, faang, start=\"2015-01-01\", stop=\"2021-10-01\")\n",
    "trending_stocks = trending_stocks.df_stocks.dropna()"
   ],
   "metadata": {
    "collapsed": false,
    "pycharm": {
     "name": "#%%\n"
    }
   }
  },
  {
   "cell_type": "markdown",
   "source": [
    "### Output of hits and errors"
   ],
   "metadata": {
    "collapsed": false,
    "pycharm": {
     "name": "#%% md\n"
    }
   }
  },
  {
   "cell_type": "code",
   "execution_count": 4,
   "outputs": [
    {
     "name": "stdout",
     "output_type": "stream",
     "text": [
      "Treffer:  10 Fehler: 3\n",
      "FB Anomalie: 76.92 %\n",
      "FB Zufällig: 61.54 %\n",
      "------------------------\n",
      "Treffer:  12 Fehler: 2\n",
      "AMZN Anomalie: 85.71 %\n",
      "AMZN Zufällig: 78.57 %\n",
      "------------------------\n",
      "Treffer:  13 Fehler: 0\n",
      "AAPL Anomalie: 100.0 %\n",
      "AAPL Zufällig: 92.31 %\n",
      "------------------------\n",
      "Treffer:  11 Fehler: 3\n",
      "NFLX Anomalie: 78.57 %\n",
      "NFLX Zufällig: 71.43 %\n",
      "------------------------\n",
      "Treffer:  14 Fehler: 0\n",
      "GOOG Anomalie: 100.0 %\n",
      "GOOG Zufällig: 64.29 %\n",
      "------------------------\n"
     ]
    }
   ],
   "source": [
    "for label in faang:\n",
    "    df = pd.DataFrame(trending_stocks[label]['Close'])\n",
    "    df = build_stock(df,N=1,contamin=0.008,tage_pred=90)\n",
    "    anom_score, comp_score = acc_score(df,label=label)"
   ],
   "metadata": {
    "collapsed": false,
    "pycharm": {
     "name": "#%%\n"
    }
   }
  }
 ],
 "metadata": {
  "kernelspec": {
   "display_name": "Python 3",
   "language": "python",
   "name": "python3"
  },
  "language_info": {
   "codemirror_mode": {
    "name": "ipython",
    "version": 2
   },
   "file_extension": ".py",
   "mimetype": "text/x-python",
   "name": "python",
   "nbconvert_exporter": "python",
   "pygments_lexer": "ipython2",
   "version": "2.7.6"
  }
 },
 "nbformat": 4,
 "nbformat_minor": 0
}