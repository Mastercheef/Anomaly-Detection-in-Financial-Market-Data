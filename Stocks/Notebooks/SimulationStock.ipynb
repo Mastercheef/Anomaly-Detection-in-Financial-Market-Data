{
 "cells": [
  {
   "cell_type": "code",
   "execution_count": 1,
   "outputs": [],
   "source": [
    "from Stocks.Simulation import stock_simulaiton"
   ],
   "metadata": {
    "collapsed": false,
    "pycharm": {
     "name": "#%%\n"
    }
   }
  },
  {
   "cell_type": "code",
   "execution_count": 2,
   "outputs": [],
   "source": [
    "industry_sectors = ['EOAN.DE','RWE.DE','ALV.DE','MUV2.DE','DBK.DE','CBK.DE','NWT.F','AFX.DE','PFE.F','SIX2.DE','DTE.DE','SOBA.F','VODI.DE','TNE5.F','SIE.DE','IFX.DE',\n",
    "            'SAP.DE','ZAL.DE','FNTN.DE','ABEC.DE','VOW3.DE','DAI.DE','ADS.DE','PSM.DE','BOSS.DE','CCC3.DE','PRG.F','LIN.DE','HEI.DE','TKA.DE','TUI1.DE','BRH.F','BAS.DE','BAYN.DE','WMT.F']\n",
    "\n",
    "indizes   = ['^GDAXI', '^MDAXI','^SDAXI','^STOXX50E','^DJI','^GSPC','^IXIC','IMOEX.ME','^N225','^HSI']\n",
    "\n",
    "futures = ['GC=F','CL=F','SI=F','ZS=F','KC=F','ZC=F']"
   ],
   "metadata": {
    "collapsed": false,
    "pycharm": {
     "name": "#%%\n"
    }
   }
  },
  {
   "cell_type": "code",
   "execution_count": 3,
   "outputs": [
    {
     "name": "stdout",
     "output_type": "stream",
     "text": [
      "Conta 0.005\n"
     ]
    },
    {
     "name": "stderr",
     "output_type": "stream",
     "text": [
      "C:\\Users\\eaut2\\anaconda3\\lib\\site-packages\\pandas\\core\\series.py:726: RuntimeWarning: invalid value encountered in log\n",
      "  result = getattr(ufunc, method)(*inputs, **kwargs)\n"
     ]
    },
    {
     "name": "stdout",
     "output_type": "stream",
     "text": [
      "Conta 0.008\n"
     ]
    },
    {
     "name": "stderr",
     "output_type": "stream",
     "text": [
      "C:\\Users\\eaut2\\anaconda3\\lib\\site-packages\\pandas\\core\\series.py:726: RuntimeWarning: invalid value encountered in log\n",
      "  result = getattr(ufunc, method)(*inputs, **kwargs)\n"
     ]
    },
    {
     "name": "stdout",
     "output_type": "stream",
     "text": [
      "Conta 0.015\n"
     ]
    },
    {
     "name": "stderr",
     "output_type": "stream",
     "text": [
      "C:\\Users\\eaut2\\anaconda3\\lib\\site-packages\\pandas\\core\\series.py:726: RuntimeWarning: invalid value encountered in log\n",
      "  result = getattr(ufunc, method)(*inputs, **kwargs)\n"
     ]
    },
    {
     "name": "stdout",
     "output_type": "stream",
     "text": [
      "Conta 0.09\n"
     ]
    },
    {
     "name": "stderr",
     "output_type": "stream",
     "text": [
      "C:\\Users\\eaut2\\anaconda3\\lib\\site-packages\\pandas\\core\\series.py:726: RuntimeWarning: invalid value encountered in log\n",
      "  result = getattr(ufunc, method)(*inputs, **kwargs)\n"
     ]
    },
    {
     "name": "stdout",
     "output_type": "stream",
     "text": [
      "Conta 0.25\n"
     ]
    },
    {
     "name": "stderr",
     "output_type": "stream",
     "text": [
      "C:\\Users\\eaut2\\anaconda3\\lib\\site-packages\\pandas\\core\\series.py:726: RuntimeWarning: invalid value encountered in log\n",
      "  result = getattr(ufunc, method)(*inputs, **kwargs)\n"
     ]
    },
    {
     "name": "stdout",
     "output_type": "stream",
     "text": [
      "running time: 1.76 min\n"
     ]
    }
   ],
   "source": [
    "table = stock_simulaiton(labels=indizes,predict=90)"
   ],
   "metadata": {
    "collapsed": false,
    "pycharm": {
     "name": "#%%\n"
    }
   }
  },
  {
   "cell_type": "code",
   "execution_count": 4,
   "outputs": [
    {
     "data": {
      "text/plain": "   Kontamination  Anomalie Ergebnis  Zufall Ergebnis\n0          0.005             55.093           54.398\n1          0.008             56.621           51.788\n2          0.015             56.203           51.219\n3          0.090             55.279           50.694\n4          0.250             54.693           50.518",
      "text/html": "<div>\n<style scoped>\n    .dataframe tbody tr th:only-of-type {\n        vertical-align: middle;\n    }\n\n    .dataframe tbody tr th {\n        vertical-align: top;\n    }\n\n    .dataframe thead th {\n        text-align: right;\n    }\n</style>\n<table border=\"1\" class=\"dataframe\">\n  <thead>\n    <tr style=\"text-align: right;\">\n      <th></th>\n      <th>Kontamination</th>\n      <th>Anomalie Ergebnis</th>\n      <th>Zufall Ergebnis</th>\n    </tr>\n  </thead>\n  <tbody>\n    <tr>\n      <th>0</th>\n      <td>0.005</td>\n      <td>55.093</td>\n      <td>54.398</td>\n    </tr>\n    <tr>\n      <th>1</th>\n      <td>0.008</td>\n      <td>56.621</td>\n      <td>51.788</td>\n    </tr>\n    <tr>\n      <th>2</th>\n      <td>0.015</td>\n      <td>56.203</td>\n      <td>51.219</td>\n    </tr>\n    <tr>\n      <th>3</th>\n      <td>0.090</td>\n      <td>55.279</td>\n      <td>50.694</td>\n    </tr>\n    <tr>\n      <th>4</th>\n      <td>0.250</td>\n      <td>54.693</td>\n      <td>50.518</td>\n    </tr>\n  </tbody>\n</table>\n</div>"
     },
     "execution_count": 4,
     "metadata": {},
     "output_type": "execute_result"
    }
   ],
   "source": [
    "table"
   ],
   "metadata": {
    "collapsed": false,
    "pycharm": {
     "name": "#%%\n"
    }
   }
  }
 ],
 "metadata": {
  "kernelspec": {
   "display_name": "Python 3",
   "language": "python",
   "name": "python3"
  },
  "language_info": {
   "codemirror_mode": {
    "name": "ipython",
    "version": 2
   },
   "file_extension": ".py",
   "mimetype": "text/x-python",
   "name": "python",
   "nbconvert_exporter": "python",
   "pygments_lexer": "ipython2",
   "version": "2.7.6"
  }
 },
 "nbformat": 4,
 "nbformat_minor": 0
}