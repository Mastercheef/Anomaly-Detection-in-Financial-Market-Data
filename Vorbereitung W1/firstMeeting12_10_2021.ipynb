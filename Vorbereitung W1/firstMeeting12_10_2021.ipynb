{
 "cells": [
  {
   "cell_type": "markdown",
   "metadata": {
    "collapsed": true,
    "pycharm": {
     "name": "#%% md\n"
    }
   },
   "source": [
    "# First Meeting 12.10.2021"
   ]
  },
  {
   "cell_type": "markdown",
   "source": [
    "### Welchen Datensatz wollen Sie verwenden, welche Informationen/Merkmale beinhaltet dieser Datensatz?\n",
    "### Welche Fragestellungen (möglichst konkret) möchten Sie analysieren?\n",
    "- Auffälligkeiten bzw. Ausreißer/Anomalien zu identifizieren.\n",
    "### Welche Methoden wollen Sie für die Analyse nutzen?\n",
    "- [Isolation Forests](https://en.wikipedia.org/wiki/Isolation_forest)\n",
    "\n",
    "### Gibt es Literatur zu vergleichbaren Analysen?"
   ],
   "metadata": {
    "collapsed": false,
    "pycharm": {
     "name": "#%% md\n"
    }
   }
  },
  {
   "cell_type": "markdown",
   "source": [
    "### Datansätze und Feauters"
   ],
   "metadata": {
    "collapsed": false,
    "pycharm": {
     "name": "#%% md\n"
    }
   }
  },
  {
   "cell_type": "markdown",
   "source": [
    "\n",
    "### Indizes\n",
    "- DAX, DOWJONES, NIKKEI, S&P500, kleinere auch möglich\n",
    "- können auch nach Kategorie oder Region unterteilt werden\n",
    "-\n",
    "### Features\n",
    "bei Yahoo Finance:\n",
    "- open, high, low, close, Adjusted Closing Price Definition\n",
    "- von 1980 bis heute, wir wollen aber vorallem auf 2000 - 2021 eingehen"
   ],
   "metadata": {
    "collapsed": false,
    "pycharm": {
     "name": "#%% md\n"
    }
   }
  },
  {
   "cell_type": "markdown",
   "source": [
    "### Fragestellungen:\n",
    "\n",
    "1. Gibt es überhaupt Anomalien, Ausreißen in den Daten?\n",
    "2. Wie haben wir diese Anomalien gefunden?\n",
    "3. In welcher Form treten diese Anomalien auf?\n",
    "    - Punktanomalien\n",
    "    - Kollektive Anomalien\n",
    "    - Kontextuelle Anomalien\n",
    "4. Gibt es einzelne Aktien in denen auf einmal ein Ausreißer und direkt wieder ein Abstieg auftritt oder gibt es plötzlich einen steilen Anstieg\n",
    "5. Vergleich von Aktien mit Anomalien untereinander, treten gleiche Anomalien auf und evtl. zum gleichen Zeitpunkt?\n",
    "\n"
   ],
   "metadata": {
    "collapsed": false,
    "pycharm": {
     "name": "#%% md\n"
    }
   }
  },
  {
   "cell_type": "markdown",
   "source": [
    "### Methoden:\n",
    "\n",
    "- STL, Seasonal-Trend decomposition using LOESS\n",
    "- CART Classification and Regression Trees\n",
    "- Isolation Forests\n",
    "\n"
   ],
   "metadata": {
    "collapsed": false,
    "pycharm": {
     "name": "#%% md\n"
    }
   }
  },
  {
   "cell_type": "markdown",
   "source": [
    "### Mögliche Literatur\n"
   ],
   "metadata": {
    "collapsed": false,
    "pycharm": {
     "name": "#%% md\n"
    }
   }
  },
  {
   "cell_type": "markdown",
   "source": [
    "### Isolation Forest\n",
    "- https://towardsdatascience.com/outlier-detection-with-isolation-forest-3d190448d45e\n",
    "- Isolation Forest, https://cs.nju.edu.cn/wujx/ , Fei Tony Liu, Kai Ming Ting\n",
    "Gippsland School of Information Technology\n",
    "Monash University, Victoria, Australia\n",
    "{tony.liu},{kaiming.ting}@infotech.monash.edu.au\n",
    "\n",
    "### CART Algorithmus\n",
    "- https://towardsdatascience.com/cart-classification-and-regression-trees-for-clean-but-powerful-models-cc89e60b7a85\n",
    "\n",
    "### Seasonal-Trend decomposition\n",
    "- Multiple STL decomposition in discovering a multi-seasonality of\n",
    "intraday trading volume, Faculty of Economics and Business, University of Zagreb\n",
    "Trg J. F. Kennedyja 6, 10000 Zagreb, Croatia\n",
    "E-mail: hjarneric@efzg.hri"
   ],
   "metadata": {
    "collapsed": false,
    "pycharm": {
     "name": "#%% md\n"
    }
   }
  },
  {
   "cell_type": "code",
   "execution_count": null,
   "outputs": [],
   "source": [],
   "metadata": {
    "collapsed": false,
    "pycharm": {
     "name": "#%%\n"
    }
   }
  }
 ],
 "metadata": {
  "kernelspec": {
   "display_name": "Python 3",
   "language": "python",
   "name": "python3"
  },
  "language_info": {
   "codemirror_mode": {
    "name": "ipython",
    "version": 2
   },
   "file_extension": ".py",
   "mimetype": "text/x-python",
   "name": "python",
   "nbconvert_exporter": "python",
   "pygments_lexer": "ipython2",
   "version": "2.7.6"
  }
 },
 "nbformat": 4,
 "nbformat_minor": 0
}