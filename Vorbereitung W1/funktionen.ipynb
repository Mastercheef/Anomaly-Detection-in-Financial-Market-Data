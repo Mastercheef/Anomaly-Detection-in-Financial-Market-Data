{
 "cells": [
  {
   "cell_type": "code",
   "execution_count": null,
   "metadata": {
    "collapsed": true
   },
   "outputs": [],
   "source": [
    "def read_stocks(wkns:[]=None, names:[]=None, start_input=None,end_input=None):\n",
    "    \"\"\" Diese Funktion läd Aktienkurse aus der yahoo-finanze Datenbank.\n",
    "    :param wkns:  Liste aller wkn's\n",
    "    :param names: Liste aller zugehörigen Aktiennamen\n",
    "    :return:      Ausgabe der Aktiennamen als Dataframe\n",
    "    \"\"\"\n",
    "    for name, wkn in zip(names,wkns):\n",
    "        exec(\"{} = web.DataReader(wkn, data_source='yahoo', start = start_input, end = end_input)\".format(name))\n",
    "\n",
    "    print(names)\n",
    "\n",
    "def merge_stocks(df_names:[]=None,names:[]=None):\n",
    "    stocks = pd.concat(df_names, axis=1,keys=names)\n",
    "    stocks.columns.names = ['Stock Ticker','Stock Info']\n",
    "    return stocks\n",
    "\n",
    "#read_stocks(wkns=imp_indizes, names=imp_labels,start_input=start,end_input=end)\n",
    "#indizes = merge_stocks(df_names=[DAX, DowJones, Nikkei225],names= imp_labels)"
   ]
  },
  {
   "cell_type": "code",
   "execution_count": null,
   "outputs": [],
   "source": [],
   "metadata": {
    "collapsed": false,
    "pycharm": {
     "name": "#%%\n"
    }
   }
  }
 ],
 "metadata": {
  "kernelspec": {
   "display_name": "Python 3",
   "language": "python",
   "name": "python3"
  },
  "language_info": {
   "codemirror_mode": {
    "name": "ipython",
    "version": 2
   },
   "file_extension": ".py",
   "mimetype": "text/x-python",
   "name": "python",
   "nbconvert_exporter": "python",
   "pygments_lexer": "ipython2",
   "version": "2.7.6"
  }
 },
 "nbformat": 4,
 "nbformat_minor": 0
}