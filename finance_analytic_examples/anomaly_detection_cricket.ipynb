{
 "cells": [
  {
   "cell_type": "code",
   "execution_count": 14,
   "metadata": {
    "collapsed": true
   },
   "outputs": [],
   "source": [
    "import numpy as np\n",
    "import pandas as pd\n",
    "from sklearn.ensemble import IsolationForest\n",
    "import matplotlib.pyplot as plt\n",
    "%matplotlib inline"
   ]
  },
  {
   "cell_type": "code",
   "execution_count": 15,
   "outputs": [],
   "source": [
    "df = pd.read_csv('sample scores.csv')"
   ],
   "metadata": {
    "collapsed": false,
    "pycharm": {
     "name": "#%%\n"
    }
   }
  },
  {
   "cell_type": "code",
   "execution_count": 21,
   "outputs": [
    {
     "data": {
      "text/plain": "<AxesSubplot:>"
     },
     "execution_count": 21,
     "metadata": {},
     "output_type": "execute_result"
    },
    {
     "data": {
      "text/plain": "<Figure size 432x288 with 1 Axes>",
      "image/png": "[encoded data removed]"
     },
     "metadata": {
      "needs_background": "light"
     },
     "output_type": "display_data"
    }
   ],
   "source": [
    "df.plot()"
   ],
   "metadata": {
    "collapsed": false,
    "pycharm": {
     "name": "#%%\n"
    }
   }
  },
  {
   "cell_type": "code",
   "execution_count": 17,
   "outputs": [
    {
     "name": "stderr",
     "output_type": "stream",
     "text": [
      "c:\\users\\eaut2\\.virtualenvs\\flathunter-iemp75iw\\lib\\site-packages\\sklearn\\base.py:441: UserWarning: X does not have valid feature names, but IsolationForest was fitted with feature names\n",
      "  warnings.warn(\n"
     ]
    },
    {
     "data": {
      "text/plain": "IsolationForest(contamination=0.2)"
     },
     "execution_count": 17,
     "metadata": {},
     "output_type": "execute_result"
    }
   ],
   "source": [
    "# Model training\n",
    "\n",
    "# n_estimators  = form n-trees\n",
    "# max_sample    = allocation-tool, any number of samples\n",
    "# contamination = percentage of randomnes\n",
    "# max features  = how many features 1.0 -> singel features\n",
    "\n",
    "model = IsolationForest(n_estimators=100,max_samples='auto',contamination=float(0.2),max_features=1.0)\n",
    "model.fit(df[['Scores']])"
   ],
   "metadata": {
    "collapsed": false,
    "pycharm": {
     "name": "#%%\n"
    }
   }
  },
  {
   "cell_type": "code",
   "execution_count": 18,
   "outputs": [
    {
     "name": "stderr",
     "output_type": "stream",
     "text": [
      "c:\\users\\eaut2\\.virtualenvs\\flathunter-iemp75iw\\lib\\site-packages\\sklearn\\base.py:441: UserWarning: X does not have valid feature names, but IsolationForest was fitted with feature names\n",
      "  warnings.warn(\n"
     ]
    }
   ],
   "source": [
    "# Prediction\n",
    "df['anomalies_scores'] = model.decision_function(df[['Scores']])\n",
    "df['anomaly'] = model.predict(df[['Scores']])"
   ],
   "metadata": {
    "collapsed": false,
    "pycharm": {
     "name": "#%%\n"
    }
   }
  },
  {
   "cell_type": "code",
   "execution_count": 20,
   "outputs": [
    {
     "data": {
      "text/plain": "    Overs  Scores  anomalies_scores  anomaly\n0       1      15          0.227053        1\n1       2      10          0.248808        1\n2       3      17          0.180394        1\n3       4      10          0.248808        1\n4       5      12          0.239181        1\n5       6      20          0.117987        1\n6       7     100         -0.008308       -1\n7       8       7          0.156377        1\n8       9       8          0.188330        1\n9      10      11          0.261030        1\n10     11     100         -0.008308       -1\n11     12      14          0.232991        1\n12     13       3          0.002077        1\n13     14     100         -0.008308       -1\n14     15      11          0.261030        1\n15     16      13          0.236975        1\n16     17     100         -0.008308       -1\n17     18      16          0.211745        1\n18     19      26          0.083627        1\n19     20      30          0.026819        1",
      "text/html": "<div>\n<style scoped>\n    .dataframe tbody tr th:only-of-type {\n        vertical-align: middle;\n    }\n\n    .dataframe tbody tr th {\n        vertical-align: top;\n    }\n\n    .dataframe thead th {\n        text-align: right;\n    }\n</style>\n<table border=\"1\" class=\"dataframe\">\n  <thead>\n    <tr style=\"text-align: right;\">\n      <th></th>\n      <th>Overs</th>\n      <th>Scores</th>\n      <th>anomalies_scores</th>\n      <th>anomaly</th>\n    </tr>\n  </thead>\n  <tbody>\n    <tr>\n      <th>0</th>\n      <td>1</td>\n      <td>15</td>\n      <td>0.227053</td>\n      <td>1</td>\n    </tr>\n    <tr>\n      <th>1</th>\n      <td>2</td>\n      <td>10</td>\n      <td>0.248808</td>\n      <td>1</td>\n    </tr>\n    <tr>\n      <th>2</th>\n      <td>3</td>\n      <td>17</td>\n      <td>0.180394</td>\n      <td>1</td>\n    </tr>\n    <tr>\n      <th>3</th>\n      <td>4</td>\n      <td>10</td>\n      <td>0.248808</td>\n      <td>1</td>\n    </tr>\n    <tr>\n      <th>4</th>\n      <td>5</td>\n      <td>12</td>\n      <td>0.239181</td>\n      <td>1</td>\n    </tr>\n    <tr>\n      <th>5</th>\n      <td>6</td>\n      <td>20</td>\n      <td>0.117987</td>\n      <td>1</td>\n    </tr>\n    <tr>\n      <th>6</th>\n      <td>7</td>\n      <td>100</td>\n      <td>-0.008308</td>\n      <td>-1</td>\n    </tr>\n    <tr>\n      <th>7</th>\n      <td>8</td>\n      <td>7</td>\n      <td>0.156377</td>\n      <td>1</td>\n    </tr>\n    <tr>\n      <th>8</th>\n      <td>9</td>\n      <td>8</td>\n      <td>0.188330</td>\n      <td>1</td>\n    </tr>\n    <tr>\n      <th>9</th>\n      <td>10</td>\n      <td>11</td>\n      <td>0.261030</td>\n      <td>1</td>\n    </tr>\n    <tr>\n      <th>10</th>\n      <td>11</td>\n      <td>100</td>\n      <td>-0.008308</td>\n      <td>-1</td>\n    </tr>\n    <tr>\n      <th>11</th>\n      <td>12</td>\n      <td>14</td>\n      <td>0.232991</td>\n      <td>1</td>\n    </tr>\n    <tr>\n      <th>12</th>\n      <td>13</td>\n      <td>3</td>\n      <td>0.002077</td>\n      <td>1</td>\n    </tr>\n    <tr>\n      <th>13</th>\n      <td>14</td>\n      <td>100</td>\n      <td>-0.008308</td>\n      <td>-1</td>\n    </tr>\n    <tr>\n      <th>14</th>\n      <td>15</td>\n      <td>11</td>\n      <td>0.261030</td>\n      <td>1</td>\n    </tr>\n    <tr>\n      <th>15</th>\n      <td>16</td>\n      <td>13</td>\n      <td>0.236975</td>\n      <td>1</td>\n    </tr>\n    <tr>\n      <th>16</th>\n      <td>17</td>\n      <td>100</td>\n      <td>-0.008308</td>\n      <td>-1</td>\n    </tr>\n    <tr>\n      <th>17</th>\n      <td>18</td>\n      <td>16</td>\n      <td>0.211745</td>\n      <td>1</td>\n    </tr>\n    <tr>\n      <th>18</th>\n      <td>19</td>\n      <td>26</td>\n      <td>0.083627</td>\n      <td>1</td>\n    </tr>\n    <tr>\n      <th>19</th>\n      <td>20</td>\n      <td>30</td>\n      <td>0.026819</td>\n      <td>1</td>\n    </tr>\n  </tbody>\n</table>\n</div>"
     },
     "execution_count": 20,
     "metadata": {},
     "output_type": "execute_result"
    }
   ],
   "source": [
    "df"
   ],
   "metadata": {
    "collapsed": false,
    "pycharm": {
     "name": "#%%\n"
    }
   }
  },
  {
   "cell_type": "code",
   "execution_count": null,
   "outputs": [],
   "source": [],
   "metadata": {
    "collapsed": false,
    "pycharm": {
     "name": "#%%\n"
    }
   }
  }
 ],
 "metadata": {
  "kernelspec": {
   "display_name": "Python 3",
   "language": "python",
   "name": "python3"
  },
  "language_info": {
   "codemirror_mode": {
    "name": "ipython",
    "version": 2
   },
   "file_extension": ".py",
   "mimetype": "text/x-python",
   "name": "python",
   "nbconvert_exporter": "python",
   "pygments_lexer": "ipython2",
   "version": "2.7.6"
  }
 },
 "nbformat": 4,
 "nbformat_minor": 0
}