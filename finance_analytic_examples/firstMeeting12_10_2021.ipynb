{
 "cells": [
  {
   "cell_type": "markdown",
   "metadata": {
    "collapsed": true,
    "pycharm": {
     "name": "#%% md\n"
    }
   },
   "source": [
    "*first meeting 12.10.2021*"
   ]
  },
  {
   "cell_type": "markdown",
   "source": [
    "Sie haben sich für das Thema \"Aktienkursanalyse\" entschieden.\n",
    "Sie haben das Thema selbst vorgeschlagen. Daher möchte ich Sie bitten, zunächst selbständig mit dem Projekt zu beginnen. Beim nächsten Treffen in der kommenden Woche möchte ich dann mit Ihnen die folgenden Fragen diskutieren:\n",
    "Welchen Datensatz wollen Sie verwenden, welche Informationen/Merkmale beinhaltet dieser Datensatz?\n",
    "Welche Fragestellungen (möglichst konkret) möchten Sie analysieren? Eine Idee bestand ja darin, Auffälligkeiten bzw. Ausreißer/Anomalien zu identifizieren. Wollen Sie diese Idee weiter verfolgen?\n",
    "Welche Methoden wollen Sie für die Analyse nutzen? Für die Entdeckung von Anomalien sind mir bspw. die Isolation Forests bekannt:\n",
    "https://en.wikipedia.org/wiki/Isolation_forest\n",
    "Gibt es Literatur zu vergleichbaren Analysen?"
   ],
   "metadata": {
    "collapsed": false,
    "pycharm": {
     "name": "#%% md\n"
    }
   }
  },
  {
   "cell_type": "markdown",
   "source": [
    "Datensatz und features der Daten"
   ],
   "metadata": {
    "collapsed": false,
    "pycharm": {
     "name": "#%% md\n"
    }
   }
  },
  {
   "cell_type": "code",
   "execution_count": 1,
   "outputs": [],
   "source": [
    "#insert here dataset and features"
   ],
   "metadata": {
    "collapsed": false,
    "pycharm": {
     "name": "#%%\n"
    }
   }
  },
  {
   "cell_type": "markdown",
   "source": [
    "Fragestellungen:\n",
    "\n",
    "Gibt es überhaupt Anomalien, Ausreißen in den Daten?\n",
    "Wie haben wir diese Anomielien dann gefunden?"
   ],
   "metadata": {
    "collapsed": false,
    "pycharm": {
     "name": "#%% md\n"
    }
   }
  },
  {
   "cell_type": "code",
   "execution_count": 1,
   "outputs": [],
   "source": [],
   "metadata": {
    "collapsed": false,
    "pycharm": {
     "name": "#%%\n"
    }
   }
  },
  {
   "cell_type": "code",
   "execution_count": null,
   "outputs": [],
   "source": [],
   "metadata": {
    "collapsed": false,
    "pycharm": {
     "name": "#%%\n"
    }
   }
  }
 ],
 "metadata": {
  "kernelspec": {
   "display_name": "Python 3",
   "language": "python",
   "name": "python3"
  },
  "language_info": {
   "codemirror_mode": {
    "name": "ipython",
    "version": 2
   },
   "file_extension": ".py",
   "mimetype": "text/x-python",
   "name": "python",
   "nbconvert_exporter": "python",
   "pygments_lexer": "ipython2",
   "version": "2.7.6"
  }
 },
 "nbformat": 4,
 "nbformat_minor": 0
}