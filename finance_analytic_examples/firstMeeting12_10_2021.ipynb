{
 "cells": [
  {
   "cell_type": "markdown",
   "metadata": {
    "collapsed": true,
    "pycharm": {
     "name": "#%% md\n"
    }
   },
   "source": [
    "# first meeting 12.10.2021"
   ]
  },
  {
   "cell_type": "markdown",
   "source": [
    "Sie haben sich für das Thema \"Aktienkursanalyse\" entschieden.\n",
    "Sie haben das Thema selbst vorgeschlagen. Daher möchte ich Sie bitten, zunächst selbständig mit dem Projekt zu beginnen. Beim nächsten Treffen in der kommenden Woche möchte ich dann mit Ihnen die folgenden Fragen diskutieren:\n",
    "Welchen Datensatz wollen Sie verwenden, welche Informationen/Merkmale beinhaltet dieser Datensatz?\n",
    "Welche Fragestellungen (möglichst konkret) möchten Sie analysieren? Eine Idee bestand ja darin, Auffälligkeiten bzw. Ausreißer/Anomalien zu identifizieren. Wollen Sie diese Idee weiter verfolgen?\n",
    "Welche Methoden wollen Sie für die Analyse nutzen? Für die Entdeckung von Anomalien sind mir bspw. die Isolation Forests bekannt:\n",
    "https://en.wikipedia.org/wiki/Isolation_forest\n",
    "Gibt es Literatur zu vergleichbaren Analysen?"
   ],
   "metadata": {
    "collapsed": false,
    "pycharm": {
     "name": "#%% md\n"
    }
   }
  },
  {
   "cell_type": "markdown",
   "source": [
    "Datensatz und features der Daten"
   ],
   "metadata": {
    "collapsed": false,
    "pycharm": {
     "name": "#%% md\n"
    }
   }
  },
  {
   "cell_type": "code",
   "execution_count": 1,
   "outputs": [],
   "source": [
    "#insert here dataset and features"
   ],
   "metadata": {
    "collapsed": false,
    "pycharm": {
     "name": "#%%\n"
    }
   }
  },
  {
   "cell_type": "markdown",
   "source": [
    "### Fragestellungen:\n",
    "\n",
    "1. Gibt es überhaupt Anomalien, Ausreißen in den Daten?\n",
    "2. Wie haben wir diese Anomalien gefunden?\n",
    "3. In welcher Form treten diese Anomalien auf?\n",
    "    - Punktanomalien\n",
    "    - Kollektive Anomalien\n",
    "    - Kontextuelle Anomalien\n",
    "4. Gibt es einzelne Aktien in denen auf einmal ein Ausreißer und direkt wieder ein Abstieg auftritt oder gibt es plötzlich einen steilen Anstieg\n",
    "5. Vergleich von Aktien mit Anomalien untereinander, treten gleiche Anomalien auf und evtl. zum gleichen Zeitpunkt?\n",
    "\n"
   ],
   "metadata": {
    "collapsed": false,
    "pycharm": {
     "name": "#%% md\n"
    }
   }
  },
  {
   "cell_type": "markdown",
   "source": [
    "### Methoden:\n",
    "\n",
    "- STL, Seasonal-Trend decomposition using LOESS\n",
    "- CART Classification and Regression Trees\n",
    "- Isolation Forests\n",
    "\n"
   ],
   "metadata": {
    "collapsed": false,
    "pycharm": {
     "name": "#%% md\n"
    }
   }
  },
  {
   "cell_type": "markdown",
   "source": [
    "### Mögliche Literatur\n"
   ],
   "metadata": {
    "collapsed": false,
    "pycharm": {
     "name": "#%% md\n"
    }
   }
  },
  {
   "cell_type": "code",
   "execution_count": null,
   "outputs": [],
   "source": [],
   "metadata": {
    "collapsed": false,
    "pycharm": {
     "name": "#%%\n"
    }
   }
  }
 ],
 "metadata": {
  "kernelspec": {
   "display_name": "Python 3",
   "language": "python",
   "name": "python3"
  },
  "language_info": {
   "codemirror_mode": {
    "name": "ipython",
    "version": 2
   },
   "file_extension": ".py",
   "mimetype": "text/x-python",
   "name": "python",
   "nbconvert_exporter": "python",
   "pygments_lexer": "ipython2",
   "version": "2.7.6"
  }
 },
 "nbformat": 4,
 "nbformat_minor": 0
}