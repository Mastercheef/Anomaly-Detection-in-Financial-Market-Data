{
 "cells": [
  {
   "cell_type": "code",
   "execution_count": 3,
   "metadata": {},
   "outputs": [],
   "source": [
    "import math\n",
    "\n",
    "import pandas as pd\n",
    "import pandas_datareader as web\n",
    "import numpy as np\n",
    "import matplotlib.pyplot as plt\n",
    "from datetime import datetime\n",
    "\n",
    "import talib as ta"
   ]
  },
  {
   "cell_type": "markdown",
   "source": [
    "### install talib\n",
    "1. [install talib](https://blog.quantinsti.com/install-ta-lib-python/)\n",
    "2. ```pip3 install --upgrade  --no-binary numpy==1.20.1 numpy==1.20.1```"
   ],
   "metadata": {
    "collapsed": false,
    "pycharm": {
     "name": "#%% md\n"
    }
   }
  },
  {
   "cell_type": "code",
   "execution_count": 4,
   "metadata": {},
   "outputs": [],
   "source": [
    "start = \"2018-01-01\"\n",
    "end = \"2020-01-01\""
   ]
  },
  {
   "cell_type": "code",
   "execution_count": 5,
   "metadata": {},
   "outputs": [],
   "source": [
    "assets = [\"FB\", \"AMZN\", \"AAPL\", \"NFLX\", \"GOOG\"]"
   ]
  },
  {
   "cell_type": "code",
   "execution_count": 6,
   "metadata": {},
   "outputs": [],
   "source": [
    "for asset in assets:\n",
    "    exec(\"{} = web.DataReader(asset, data_source='yahoo', start = start, end = end)\".format(asset))"
   ]
  },
  {
   "cell_type": "code",
   "execution_count": 7,
   "metadata": {},
   "outputs": [],
   "source": [
    "asset_list = [FB, AMZN, AAPL, NFLX, GOOG]"
   ]
  },
  {
   "cell_type": "code",
   "execution_count": 8,
   "metadata": {},
   "outputs": [],
   "source": [
    "# Calculating the technical indicators with talib using the functions for momentum indicators\n",
    "def indikator(asset):\n",
    "    asset[\"RSI\"] = ta.RSI(asset[\"Close\"], timeperiod = 14)\n",
    "    asset[\"ROC\"] = ta.ROC(asset[\"Close\"], timeperiod = 10) # On-Balance-Volume\n",
    "    asset[\"%R\"]  = ta.WILLR(asset[\"High\"], asset[\"Low\"], asset[\"Close\"], timeperiod = 14)\n",
    "    asset[\"OBV\"] = ta.OBV(asset[\"Close\"], asset[\"Volume\"])\n",
    "    asset[\"MACD\"], asset[\"MACD_SIGNAL\"], asset[\"MACD_HIST\"] = ta.MACD(asset[\"Close\"], fastperiod=12, slowperiod=26, signalperiod=9)\n",
    "    # Moving Average Convergence/Divergence\n",
    "    asset[\"Prediction\"] = np.where(asset[\"Close\"].shift(-5) > asset[\"Close\"], 1, -1)"
   ]
  },
  {
   "cell_type": "code",
   "execution_count": 9,
   "metadata": {},
   "outputs": [],
   "source": [
    "for asset in asset_list:\n",
    "    indikator(asset)"
   ]
  },
  {
   "cell_type": "code",
   "execution_count": 10,
   "metadata": {},
   "outputs": [],
   "source": [
    "df = FB.append((AMZN, AAPL, NFLX, GOOG))"
   ]
  },
  {
   "cell_type": "code",
   "execution_count": 27,
   "metadata": {},
   "outputs": [],
   "source": [
    "df.dropna(inplace = True)"
   ]
  },
  {
   "cell_type": "code",
   "execution_count": 26,
   "outputs": [
    {
     "name": "stdout",
     "output_type": "stream",
     "text": [
      "                   High          Low         Open        Close      Volume  \\\n",
      "Date                                                                         \n",
      "2018-02-20   177.949997   175.110001   175.770004   176.009995  21204900.0   \n",
      "2018-02-21   181.270004   176.399994   176.710007   177.910004  23200800.0   \n",
      "2018-02-22   180.210007   177.410004   178.699997   178.990005  18464200.0   \n",
      "2018-02-23   183.389999   179.509995   179.899994   183.289993  19007300.0   \n",
      "2018-02-26   185.660004   183.220001   184.580002   184.929993  17599700.0   \n",
      "...                 ...          ...          ...          ...         ...   \n",
      "2019-12-24  1350.260010  1342.780029  1348.500000  1343.560059    347500.0   \n",
      "2019-12-26  1361.327026  1344.469971  1346.170044  1360.400024    667500.0   \n",
      "2019-12-27  1364.530029  1349.310059  1362.989990  1351.890015   1038400.0   \n",
      "2019-12-30  1353.000000  1334.020020  1350.000000  1336.140015   1050900.0   \n",
      "2019-12-31  1338.000000  1329.084961  1330.109985  1337.020020    961800.0   \n",
      "\n",
      "              Adj Close        RSI       ROC         %R         OBV  \\\n",
      "Date                                                                  \n",
      "2018-02-20   176.009995  44.022479 -2.896392 -68.621190 -32454100.0   \n",
      "2018-02-21   177.910004  46.519752 -3.993305 -61.869206  -9253300.0   \n",
      "2018-02-22   178.990005  47.941419 -0.660444 -56.307781   9210900.0   \n",
      "2018-02-23   183.289993  53.267977  6.824800 -31.242018  28218200.0   \n",
      "2018-02-26   184.929993  55.152718  5.008229  -4.518618  45817900.0   \n",
      "...                 ...        ...       ...        ...         ...   \n",
      "2019-12-24  1343.560059  58.411350 -0.081803 -44.151391   7523000.0   \n",
      "2019-12-26  1360.400024  65.243314  1.143478 -14.575307   8190500.0   \n",
      "2019-12-27  1351.890015  59.889141  0.119976 -45.269347   7152100.0   \n",
      "2019-12-30  1336.140015  51.470368 -0.867316 -93.156887   6101200.0   \n",
      "2019-12-31  1337.020020  51.877410 -1.774211 -77.906028   7063000.0   \n",
      "\n",
      "                 MACD  MACD_SIGNAL  MACD_HIST  Prediction  \n",
      "Date                                                       \n",
      "2018-02-20  -1.764779    -0.725625  -1.039154           1  \n",
      "2018-02-21  -1.754503    -0.931401  -0.823102           1  \n",
      "2018-02-22  -1.640303    -1.073181  -0.567122          -1  \n",
      "2018-02-23  -1.189119    -1.096369  -0.092750          -1  \n",
      "2018-02-26  -0.691249    -1.015345   0.324096          -1  \n",
      "...               ...          ...        ...         ...  \n",
      "2019-12-24  14.802758    16.455812  -1.653053          -1  \n",
      "2019-12-26  14.930346    16.150718  -1.220372          -1  \n",
      "2019-12-27  14.181301    15.756835  -1.575534          -1  \n",
      "2019-12-30  12.176421    15.040752  -2.864331          -1  \n",
      "2019-12-31  10.537084    14.140018  -3.602935          -1  \n",
      "\n",
      "[2350 rows x 14 columns]\n"
     ]
    }
   ],
   "source": [
    "print(df)"
   ],
   "metadata": {
    "collapsed": false,
    "pycharm": {
     "name": "#%%\n"
    }
   }
  },
  {
   "cell_type": "code",
   "execution_count": 28,
   "metadata": {},
   "outputs": [
    {
     "data": {
      "text/plain": "                  RSI       ROC         OBV         %R       MACD  \\\nDate                                                                \n2018-02-20  44.022479 -2.896392 -32454100.0 -68.621190  -1.764779   \n2018-02-21  46.519752 -3.993305  -9253300.0 -61.869206  -1.754503   \n2018-02-22  47.941419 -0.660444   9210900.0 -56.307781  -1.640303   \n2018-02-23  53.267977  6.824800  28218200.0 -31.242018  -1.189119   \n2018-02-26  55.152718  5.008229  45817900.0  -4.518618  -0.691249   \n...               ...       ...         ...        ...        ...   \n2019-12-24  58.411350 -0.081803   7523000.0 -44.151391  14.802758   \n2019-12-26  65.243314  1.143478   8190500.0 -14.575307  14.930346   \n2019-12-27  59.889141  0.119976   7152100.0 -45.269347  14.181301   \n2019-12-30  51.470368 -0.867316   6101200.0 -93.156887  12.176421   \n2019-12-31  51.877410 -1.774211   7063000.0 -77.906028  10.537084   \n\n            MACD_SIGNAL  MACD_HIST  \nDate                                \n2018-02-20    -0.725625  -1.039154  \n2018-02-21    -0.931401  -0.823102  \n2018-02-22    -1.073181  -0.567122  \n2018-02-23    -1.096369  -0.092750  \n2018-02-26    -1.015345   0.324096  \n...                 ...        ...  \n2019-12-24    16.455812  -1.653053  \n2019-12-26    16.150718  -1.220372  \n2019-12-27    15.756835  -1.575534  \n2019-12-30    15.040752  -2.864331  \n2019-12-31    14.140018  -3.602935  \n\n[2350 rows x 7 columns]",
      "text/html": "<div>\n<style scoped>\n    .dataframe tbody tr th:only-of-type {\n        vertical-align: middle;\n    }\n\n    .dataframe tbody tr th {\n        vertical-align: top;\n    }\n\n    .dataframe thead th {\n        text-align: right;\n    }\n</style>\n<table border=\"1\" class=\"dataframe\">\n  <thead>\n    <tr style=\"text-align: right;\">\n      <th></th>\n      <th>RSI</th>\n      <th>ROC</th>\n      <th>OBV</th>\n      <th>%R</th>\n      <th>MACD</th>\n      <th>MACD_SIGNAL</th>\n      <th>MACD_HIST</th>\n    </tr>\n    <tr>\n      <th>Date</th>\n      <th></th>\n      <th></th>\n      <th></th>\n      <th></th>\n      <th></th>\n      <th></th>\n      <th></th>\n    </tr>\n  </thead>\n  <tbody>\n    <tr>\n      <th>2018-02-20</th>\n      <td>44.022479</td>\n      <td>-2.896392</td>\n      <td>-32454100.0</td>\n      <td>-68.621190</td>\n      <td>-1.764779</td>\n      <td>-0.725625</td>\n      <td>-1.039154</td>\n    </tr>\n    <tr>\n      <th>2018-02-21</th>\n      <td>46.519752</td>\n      <td>-3.993305</td>\n      <td>-9253300.0</td>\n      <td>-61.869206</td>\n      <td>-1.754503</td>\n      <td>-0.931401</td>\n      <td>-0.823102</td>\n    </tr>\n    <tr>\n      <th>2018-02-22</th>\n      <td>47.941419</td>\n      <td>-0.660444</td>\n      <td>9210900.0</td>\n      <td>-56.307781</td>\n      <td>-1.640303</td>\n      <td>-1.073181</td>\n      <td>-0.567122</td>\n    </tr>\n    <tr>\n      <th>2018-02-23</th>\n      <td>53.267977</td>\n      <td>6.824800</td>\n      <td>28218200.0</td>\n      <td>-31.242018</td>\n      <td>-1.189119</td>\n      <td>-1.096369</td>\n      <td>-0.092750</td>\n    </tr>\n    <tr>\n      <th>2018-02-26</th>\n      <td>55.152718</td>\n      <td>5.008229</td>\n      <td>45817900.0</td>\n      <td>-4.518618</td>\n      <td>-0.691249</td>\n      <td>-1.015345</td>\n      <td>0.324096</td>\n    </tr>\n    <tr>\n      <th>...</th>\n      <td>...</td>\n      <td>...</td>\n      <td>...</td>\n      <td>...</td>\n      <td>...</td>\n      <td>...</td>\n      <td>...</td>\n    </tr>\n    <tr>\n      <th>2019-12-24</th>\n      <td>58.411350</td>\n      <td>-0.081803</td>\n      <td>7523000.0</td>\n      <td>-44.151391</td>\n      <td>14.802758</td>\n      <td>16.455812</td>\n      <td>-1.653053</td>\n    </tr>\n    <tr>\n      <th>2019-12-26</th>\n      <td>65.243314</td>\n      <td>1.143478</td>\n      <td>8190500.0</td>\n      <td>-14.575307</td>\n      <td>14.930346</td>\n      <td>16.150718</td>\n      <td>-1.220372</td>\n    </tr>\n    <tr>\n      <th>2019-12-27</th>\n      <td>59.889141</td>\n      <td>0.119976</td>\n      <td>7152100.0</td>\n      <td>-45.269347</td>\n      <td>14.181301</td>\n      <td>15.756835</td>\n      <td>-1.575534</td>\n    </tr>\n    <tr>\n      <th>2019-12-30</th>\n      <td>51.470368</td>\n      <td>-0.867316</td>\n      <td>6101200.0</td>\n      <td>-93.156887</td>\n      <td>12.176421</td>\n      <td>15.040752</td>\n      <td>-2.864331</td>\n    </tr>\n    <tr>\n      <th>2019-12-31</th>\n      <td>51.877410</td>\n      <td>-1.774211</td>\n      <td>7063000.0</td>\n      <td>-77.906028</td>\n      <td>10.537084</td>\n      <td>14.140018</td>\n      <td>-3.602935</td>\n    </tr>\n  </tbody>\n</table>\n<p>2350 rows × 7 columns</p>\n</div>"
     },
     "execution_count": 28,
     "metadata": {},
     "output_type": "execute_result"
    }
   ],
   "source": [
    "# Splitting the data into X and y variables and perform a train test split\n",
    "from sklearn.model_selection import train_test_split\n",
    "\n",
    "X = df[[\"RSI\", \"ROC\", \"OBV\",\"%R\", \"MACD\", \"MACD_SIGNAL\", \"MACD_HIST\"]]\n",
    "y = df[[\"Prediction\"]]\n",
    "\n",
    "X_train, X_test, y_train, y_test = train_test_split(X, y, random_state = 0, train_size = 0.8, test_size=0.2)"
   ]
  },
  {
   "cell_type": "code",
   "execution_count": 13,
   "metadata": {},
   "outputs": [
    {
     "name": "stderr",
     "output_type": "stream",
     "text": [
      "C:\\Users\\eaut2\\AppData\\Local\\Temp/ipykernel_16648/1557407622.py:6: DataConversionWarning: A column-vector y was passed when a 1d array was expected. Please change the shape of y to (n_samples,), for example using ravel().\n",
      "  model.fit(X_train, y_train)\n",
      "c:\\users\\eaut2\\.virtualenvs\\flathunter-iemp75iw\\lib\\site-packages\\sklearn\\base.py:441: UserWarning: X does not have valid feature names, but RandomForestClassifier was fitted with feature names\n",
      "  warnings.warn(\n"
     ]
    }
   ],
   "source": [
    "# Creating the model with the Random Forest classifier, choosing the gini criterion\n",
    "from sklearn.ensemble import RandomForestClassifier\n",
    "from sklearn.metrics import accuracy_score\n",
    "\n",
    "model = RandomForestClassifier(n_estimators = 1000, oob_score = True, criterion = \"gini\", random_state=0)\n",
    "model.fit(X_train, y_train)\n",
    "\n",
    "y_pred = model.predict(X_test)"
   ]
  },
  {
   "cell_type": "code",
   "execution_count": 14,
   "metadata": {},
   "outputs": [
    {
     "name": "stdout",
     "output_type": "stream",
     "text": [
      "Correct prediction in %:  71.27659574468085\n"
     ]
    }
   ],
   "source": [
    "print(\"Correct prediction in %: \", accuracy_score(y_test, y_pred, normalize= True)*100)"
   ]
  },
  {
   "cell_type": "code",
   "execution_count": 15,
   "metadata": {},
   "outputs": [],
   "source": [
    "#Getting the Wallmart company for the timeperiod 2020 to 2021\n",
    "test_stock = web.DataReader(\"WBT\", data_source=\"yahoo\", start=\"2020-01-01\", end = \"2021-02-14\")\n",
    "\n",
    "#Performing the indicator function on the new data\n",
    "indikator(test_stock)\n",
    "\n",
    "#Dropping all NaN values so the model can make predictions on the new data\n",
    "test_stock.dropna(inplace=True)"
   ]
  },
  {
   "cell_type": "code",
   "execution_count": 16,
   "metadata": {},
   "outputs": [],
   "source": [
    "test_stock[\"predicted\"] = model.predict(test_stock[[\"RSI\", \"ROC\", \"OBV\",\"%R\", \"MACD\", \"MACD_SIGNAL\", \"MACD_HIST\"]])"
   ]
  },
  {
   "cell_type": "code",
   "execution_count": 17,
   "metadata": {},
   "outputs": [
    {
     "data": {
      "text/plain": "              High     Low   Open  Close   Volume  Adj Close        RSI  \\\nDate                                                                      \n2020-02-20  14.160  13.570  13.60  14.00  1009100      14.00  37.135261   \n2020-02-21  14.045  13.730  13.90  14.01  1049400      14.01  37.363134   \n2020-02-24  13.670  13.260  13.60  13.40  1386600      13.40  30.177361   \n2020-02-25  14.960  12.670  13.59  13.25  3156400      13.25  28.714907   \n2020-02-26  13.810  13.225  13.40  13.25  1575000      13.25  28.714907   \n\n                  ROC         %R        OBV      MACD  MACD_SIGNAL  MACD_HIST  \\\nDate                                                                            \n2020-02-20  -7.834099 -72.268912 -3558600.0 -0.384019    -0.252180  -0.131838   \n2020-02-21  -7.033839 -71.060163 -2509200.0 -0.380889    -0.277922  -0.102967   \n2020-02-24  -8.719351 -92.964854 -3895800.0 -0.422757    -0.306889  -0.115868   \n2020-02-25 -10.593790 -77.519382 -7052200.0 -0.462707    -0.338053  -0.124655   \n2020-02-26  -8.746559 -77.165357 -7052200.0 -0.488735    -0.368189  -0.120546   \n\n            Prediction  predicted  \nDate                               \n2020-02-20          -1         -1  \n2020-02-21          -1         -1  \n2020-02-24          -1          1  \n2020-02-25          -1          1  \n2020-02-26          -1          1  ",
      "text/html": "<div>\n<style scoped>\n    .dataframe tbody tr th:only-of-type {\n        vertical-align: middle;\n    }\n\n    .dataframe tbody tr th {\n        vertical-align: top;\n    }\n\n    .dataframe thead th {\n        text-align: right;\n    }\n</style>\n<table border=\"1\" class=\"dataframe\">\n  <thead>\n    <tr style=\"text-align: right;\">\n      <th></th>\n      <th>High</th>\n      <th>Low</th>\n      <th>Open</th>\n      <th>Close</th>\n      <th>Volume</th>\n      <th>Adj Close</th>\n      <th>RSI</th>\n      <th>ROC</th>\n      <th>%R</th>\n      <th>OBV</th>\n      <th>MACD</th>\n      <th>MACD_SIGNAL</th>\n      <th>MACD_HIST</th>\n      <th>Prediction</th>\n      <th>predicted</th>\n    </tr>\n    <tr>\n      <th>Date</th>\n      <th></th>\n      <th></th>\n      <th></th>\n      <th></th>\n      <th></th>\n      <th></th>\n      <th></th>\n      <th></th>\n      <th></th>\n      <th></th>\n      <th></th>\n      <th></th>\n      <th></th>\n      <th></th>\n      <th></th>\n    </tr>\n  </thead>\n  <tbody>\n    <tr>\n      <th>2020-02-20</th>\n      <td>14.160</td>\n      <td>13.570</td>\n      <td>13.60</td>\n      <td>14.00</td>\n      <td>1009100</td>\n      <td>14.00</td>\n      <td>37.135261</td>\n      <td>-7.834099</td>\n      <td>-72.268912</td>\n      <td>-3558600.0</td>\n      <td>-0.384019</td>\n      <td>-0.252180</td>\n      <td>-0.131838</td>\n      <td>-1</td>\n      <td>-1</td>\n    </tr>\n    <tr>\n      <th>2020-02-21</th>\n      <td>14.045</td>\n      <td>13.730</td>\n      <td>13.90</td>\n      <td>14.01</td>\n      <td>1049400</td>\n      <td>14.01</td>\n      <td>37.363134</td>\n      <td>-7.033839</td>\n      <td>-71.060163</td>\n      <td>-2509200.0</td>\n      <td>-0.380889</td>\n      <td>-0.277922</td>\n      <td>-0.102967</td>\n      <td>-1</td>\n      <td>-1</td>\n    </tr>\n    <tr>\n      <th>2020-02-24</th>\n      <td>13.670</td>\n      <td>13.260</td>\n      <td>13.60</td>\n      <td>13.40</td>\n      <td>1386600</td>\n      <td>13.40</td>\n      <td>30.177361</td>\n      <td>-8.719351</td>\n      <td>-92.964854</td>\n      <td>-3895800.0</td>\n      <td>-0.422757</td>\n      <td>-0.306889</td>\n      <td>-0.115868</td>\n      <td>-1</td>\n      <td>1</td>\n    </tr>\n    <tr>\n      <th>2020-02-25</th>\n      <td>14.960</td>\n      <td>12.670</td>\n      <td>13.59</td>\n      <td>13.25</td>\n      <td>3156400</td>\n      <td>13.25</td>\n      <td>28.714907</td>\n      <td>-10.593790</td>\n      <td>-77.519382</td>\n      <td>-7052200.0</td>\n      <td>-0.462707</td>\n      <td>-0.338053</td>\n      <td>-0.124655</td>\n      <td>-1</td>\n      <td>1</td>\n    </tr>\n    <tr>\n      <th>2020-02-26</th>\n      <td>13.810</td>\n      <td>13.225</td>\n      <td>13.40</td>\n      <td>13.25</td>\n      <td>1575000</td>\n      <td>13.25</td>\n      <td>28.714907</td>\n      <td>-8.746559</td>\n      <td>-77.165357</td>\n      <td>-7052200.0</td>\n      <td>-0.488735</td>\n      <td>-0.368189</td>\n      <td>-0.120546</td>\n      <td>-1</td>\n      <td>1</td>\n    </tr>\n  </tbody>\n</table>\n</div>"
     },
     "execution_count": 17,
     "metadata": {},
     "output_type": "execute_result"
    }
   ],
   "source": [
    "test_stock.head()"
   ]
  },
  {
   "cell_type": "code",
   "execution_count": 18,
   "metadata": {},
   "outputs": [],
   "source": [
    "def buy_sell(asset):\n",
    "    BuyPrice = []\n",
    "    SellPrice = []\n",
    "    flag = -1\n",
    "    counter = 0\n",
    "    n=5\n",
    "    \n",
    "    for i in range(len(asset)):\n",
    "        if asset[\"predicted\"][i] == 1 and counter == 0:\n",
    "            if flag != 1:\n",
    "                BuyPrice.append(asset[\"Adj Close\"][i])\n",
    "                SellPrice.append(np.nan)\n",
    "                flag = 1\n",
    "            else:\n",
    "                BuyPrice.append(np.nan)\n",
    "                SellPrice.append(np.nan)\n",
    "        elif asset[\"predicted\"][i] == -1 and counter ==0:\n",
    "            if flag !=0:\n",
    "                BuyPrice.append(np.nan)\n",
    "                SellPrice.append(asset[\"Adj Close\"][i])\n",
    "                flag = 0\n",
    "            else:\n",
    "                BuyPrice.append(np.nan)\n",
    "                SellPrice.append(np.nan)\n",
    "        else:\n",
    "            BuyPrice.append(np.nan)\n",
    "            SellPrice.append(np.nan)\n",
    "            \n",
    "        counter +=1\n",
    "        if counter ==n:\n",
    "            counter = 0\n",
    "            \n",
    "    return (BuyPrice, SellPrice)"
   ]
  },
  {
   "cell_type": "code",
   "execution_count": 19,
   "metadata": {},
   "outputs": [],
   "source": [
    "buysell = buy_sell(test_stock)"
   ]
  },
  {
   "cell_type": "code",
   "execution_count": 20,
   "metadata": {},
   "outputs": [],
   "source": [
    "test_stock[\"Buy\"] = buysell[0]\n",
    "test_stock[\"Sell\"] = buysell[1]"
   ]
  },
  {
   "cell_type": "code",
   "execution_count": 21,
   "metadata": {},
   "outputs": [
    {
     "name": "stderr",
     "output_type": "stream",
     "text": [
      "C:\\Users\\eaut2\\AppData\\Local\\Temp/ipykernel_16648/211971331.py:2: SettingWithCopyWarning: \n",
      "A value is trying to be set on a copy of a slice from a DataFrame\n",
      "\n",
      "See the caveats in the documentation: https://pandas.pydata.org/pandas-docs/stable/user_guide/indexing.html#returning-a-view-versus-a-copy\n",
      "  test_stock[\"Sell\"][0] = np.nan\n"
     ]
    }
   ],
   "source": [
    "#Replacing the first Sell signal by a NaN value\n",
    "test_stock[\"Sell\"][0] = np.nan"
   ]
  },
  {
   "cell_type": "code",
   "execution_count": 22,
   "metadata": {},
   "outputs": [
    {
     "data": {
      "text/plain": "<Figure size 1152x576 with 1 Axes>",
      "image/png": "[encoded data removed]"
     },
     "metadata": {
      "needs_background": "light"
     },
     "output_type": "display_data"
    }
   ],
   "source": [
    "#Plotting our Signals on our time period\n",
    "plt.figure(figsize=(16,8))\n",
    "plt.scatter(test_stock.index, test_stock[\"Buy\"], color = \"green\", label = \"Buy\", marker = \"^\", alpha=1)\n",
    "plt.scatter(test_stock.index, test_stock[\"Sell\"], color = \"red\", label = \"Sell\", marker = \"v\", alpha=1)\n",
    "plt.plot(test_stock.index, test_stock[\"Adj Close\"], alpha = 0.5)\n",
    "plt.legend()\n",
    "plt.grid()\n",
    "plt.show()"
   ]
  },
  {
   "cell_type": "code",
   "execution_count": 23,
   "metadata": {},
   "outputs": [],
   "source": [
    "def performance(data):\n",
    "    performance = [1000000]\n",
    "    num_stocks = 0\n",
    "    for i in range(len(data)):\n",
    "        if math.isnan(data[\"Buy\"][i]) == False:\n",
    "            num_stocks = performance[i]/data[\"Adj Close\"][i]\n",
    "            performance.append(num_stocks*data[\"Adj Close\"][i])\n",
    "        elif math.isnan(data[\"Sell\"][i]) == False:\n",
    "            cash = num_stocks * data[\"Adj Close\"][i]\n",
    "            performance.append(cash)\n",
    "        else: \n",
    "            performance.append(performance[i])\n",
    "            \n",
    "    return performance"
   ]
  },
  {
   "cell_type": "code",
   "execution_count": 24,
   "metadata": {},
   "outputs": [],
   "source": [
    "test_stock_performance = performance(test_stock)"
   ]
  },
  {
   "cell_type": "code",
   "execution_count": 25,
   "metadata": {},
   "outputs": [
    {
     "data": {
      "text/plain": "<Figure size 907.2x331.2 with 1 Axes>",
      "image/png": "[encoded data removed]"
     },
     "metadata": {
      "needs_background": "light"
     },
     "output_type": "display_data"
    }
   ],
   "source": [
    "plt.figure(figsize= (12.6, 4.6))\n",
    "plt.plot(test_stock_performance)\n",
    "plt.grid()\n",
    "plt.show()"
   ]
  },
  {
   "cell_type": "code",
   "execution_count": 25,
   "metadata": {},
   "outputs": [],
   "source": []
  }
 ],
 "metadata": {
  "kernelspec": {
   "display_name": "Python 3",
   "language": "python",
   "name": "python3"
  },
  "language_info": {
   "codemirror_mode": {
    "name": "ipython",
    "version": 3
   },
   "file_extension": ".py",
   "mimetype": "text/x-python",
   "name": "python",
   "nbconvert_exporter": "python",
   "pygments_lexer": "ipython3",
   "version": "3.8.5"
  }
 },
 "nbformat": 4,
 "nbformat_minor": 4
}