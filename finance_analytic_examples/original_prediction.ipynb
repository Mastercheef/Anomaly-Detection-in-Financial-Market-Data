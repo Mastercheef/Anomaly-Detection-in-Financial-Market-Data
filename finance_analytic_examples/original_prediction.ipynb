{
 "cells": [
  {
   "cell_type": "code",
   "execution_count": 73,
   "metadata": {},
   "outputs": [],
   "source": [
    "import math\n",
    "\n",
    "import pandas as pd\n",
    "import pandas_datareader as web\n",
    "import numpy as np\n",
    "import matplotlib.pyplot as plt\n",
    "from datetime import datetime\n",
    "\n",
    "import talib as ta"
   ]
  },
  {
   "cell_type": "markdown",
   "source": [
    "### install talib\n",
    "1. [install talib](https://blog.quantinsti.com/install-ta-lib-python/)\n",
    "2. ```pip3 install --upgrade  --no-binary numpy==1.20.1 numpy==1.20.1```"
   ],
   "metadata": {
    "collapsed": false,
    "pycharm": {
     "name": "#%% md\n"
    }
   }
  },
  {
   "cell_type": "code",
   "execution_count": 74,
   "metadata": {},
   "outputs": [],
   "source": [
    "start = \"2018-01-01\"\n",
    "end = \"2020-01-01\""
   ]
  },
  {
   "cell_type": "code",
   "execution_count": 75,
   "metadata": {},
   "outputs": [],
   "source": [
    "assets = [\"FB\", \"AMZN\", \"AAPL\", \"NFLX\", \"GOOG\"]"
   ]
  },
  {
   "cell_type": "code",
   "execution_count": 76,
   "metadata": {},
   "outputs": [],
   "source": [
    "for asset in assets:\n",
    "    exec(\"{} = web.DataReader(asset, data_source='yahoo', start = start, end = end)\".format(asset))"
   ]
  },
  {
   "cell_type": "code",
   "execution_count": 77,
   "metadata": {},
   "outputs": [],
   "source": [
    "asset_list = [FB, AMZN, AAPL, NFLX, GOOG]"
   ]
  },
  {
   "cell_type": "code",
   "execution_count": 78,
   "metadata": {},
   "outputs": [],
   "source": [
    "#Calculating the technical indicators with talib using the functions for momentum indicators\n",
    "def indikator(asset):\n",
    "    asset[\"RSI\"] = ta.RSI(asset[\"Close\"], timeperiod = 14)\n",
    "    asset[\"ROC\"] = ta.ROC(asset[\"Close\"], timeperiod = 10)\n",
    "    asset[\"%R\"]  = ta.WILLR(asset[\"High\"], asset[\"Low\"], asset[\"Close\"], timeperiod = 14)\n",
    "    asset[\"OBV\"] = ta.OBV(asset[\"Close\"], asset[\"Volume\"])\n",
    "    asset[\"MACD\"], asset[\"MACD_SIGNAL\"], asset[\"MACD_HIST\"] = ta.MACD(asset[\"Close\"], fastperiod=12, slowperiod=26, signalperiod=9)\n",
    "    \n",
    "    asset[\"Prediction\"] = np.where(asset[\"Close\"].shift(-5) > asset[\"Close\"], 1, -1)"
   ]
  },
  {
   "cell_type": "code",
   "execution_count": 79,
   "metadata": {},
   "outputs": [],
   "source": [
    "for asset in asset_list:\n",
    "    indikator(asset)"
   ]
  },
  {
   "cell_type": "code",
   "execution_count": 80,
   "metadata": {},
   "outputs": [],
   "source": [
    "df = FB.append((AMZN, AAPL, NFLX, GOOG))"
   ]
  },
  {
   "cell_type": "code",
   "execution_count": 81,
   "metadata": {},
   "outputs": [],
   "source": [
    "df.dropna(inplace = True)"
   ]
  },
  {
   "cell_type": "code",
   "execution_count": 82,
   "metadata": {},
   "outputs": [],
   "source": [
    "# Splitting the data into X and y variables and perform a train test split\n",
    "from sklearn.model_selection import train_test_split\n",
    "\n",
    "X = df[[\"RSI\", \"ROC\", \"OBV\",\"%R\", \"MACD\", \"MACD_SIGNAL\", \"MACD_HIST\"]]\n",
    "y = df[[\"Prediction\"]]\n",
    "\n",
    "X_train, X_test, y_train, y_test = train_test_split(X, y, random_state = 0, train_size = 0.8, test_size=0.2)"
   ]
  },
  {
   "cell_type": "code",
   "execution_count": 83,
   "metadata": {},
   "outputs": [
    {
     "name": "stderr",
     "output_type": "stream",
     "text": [
      "C:\\Users\\eaut2\\AppData\\Local\\Temp/ipykernel_22184/1557407622.py:6: DataConversionWarning: A column-vector y was passed when a 1d array was expected. Please change the shape of y to (n_samples,), for example using ravel().\n",
      "  model.fit(X_train, y_train)\n",
      "c:\\users\\eaut2\\.virtualenvs\\flathunter-iemp75iw\\lib\\site-packages\\sklearn\\base.py:441: UserWarning: X does not have valid feature names, but RandomForestClassifier was fitted with feature names\n",
      "  warnings.warn(\n"
     ]
    }
   ],
   "source": [
    "# Creating the model with the Random Forest classifier, choosing the gini criterion\n",
    "from sklearn.ensemble import RandomForestClassifier\n",
    "from sklearn.metrics import accuracy_score\n",
    "\n",
    "model = RandomForestClassifier(n_estimators = 1000, oob_score = True, criterion = \"gini\", random_state=0)\n",
    "model.fit(X_train, y_train)\n",
    "\n",
    "y_pred = model.predict(X_test)"
   ]
  },
  {
   "cell_type": "code",
   "execution_count": 84,
   "metadata": {},
   "outputs": [
    {
     "name": "stdout",
     "output_type": "stream",
     "text": [
      "Correct prediction in %:  71.27659574468085\n"
     ]
    }
   ],
   "source": [
    "print(\"Correct prediction in %: \", accuracy_score(y_test, y_pred, normalize= True)*100)"
   ]
  },
  {
   "cell_type": "code",
   "execution_count": 86,
   "metadata": {},
   "outputs": [],
   "source": [
    "#Getting the Wallmart company for the timeperiod 2020 to 2021\n",
    "test_stock = web.DataReader(\"WBT\", data_source=\"yahoo\", start=\"2020-01-01\", end = \"2021-02-14\")\n",
    "\n",
    "#Performing the indicator function on the new data\n",
    "indikator(test_stock)\n",
    "\n",
    "#Dropping all NaN values so the model can make predictions on the new data\n",
    "test_stock.dropna(inplace=True)"
   ]
  },
  {
   "cell_type": "code",
   "execution_count": null,
   "metadata": {},
   "outputs": [],
   "source": [
    "test_stock[\"predicted\"] = model.predict(test_stock[[\"RSI\", \"ROC\", \"OBV\",\"%R\", \"MACD\", \"MACD_SIGNAL\", \"MACD_HIST\"]])"
   ]
  },
  {
   "cell_type": "code",
   "execution_count": null,
   "metadata": {},
   "outputs": [],
   "source": [
    "test_stock.head()"
   ]
  },
  {
   "cell_type": "code",
   "execution_count": null,
   "metadata": {},
   "outputs": [],
   "source": [
    "def buy_sell(asset):\n",
    "    BuyPrice = []\n",
    "    SellPrice = []\n",
    "    flag = -1\n",
    "    counter = 0\n",
    "    n=5\n",
    "    \n",
    "    for i in range(len(asset)):\n",
    "        if asset[\"predicted\"][i] == 1 and counter == 0:\n",
    "            if flag != 1:\n",
    "                BuyPrice.append(asset[\"Adj Close\"][i])\n",
    "                SellPrice.append(np.nan)\n",
    "                flag = 1\n",
    "            else:\n",
    "                BuyPrice.append(np.nan)\n",
    "                SellPrice.append(np.nan)\n",
    "        elif asset[\"predicted\"][i] == -1 and counter ==0:\n",
    "            if flag !=0:\n",
    "                BuyPrice.append(np.nan)\n",
    "                SellPrice.append(asset[\"Adj Close\"][i])\n",
    "                flag = 0\n",
    "            else:\n",
    "                BuyPrice.append(np.nan)\n",
    "                SellPrice.append(np.nan)\n",
    "        else:\n",
    "            BuyPrice.append(np.nan)\n",
    "            SellPrice.append(np.nan)\n",
    "            \n",
    "        counter +=1\n",
    "        if counter ==n:\n",
    "            counter = 0\n",
    "            \n",
    "    return (BuyPrice, SellPrice)"
   ]
  },
  {
   "cell_type": "code",
   "execution_count": null,
   "metadata": {},
   "outputs": [],
   "source": [
    "buysell = buy_sell(test_stock)"
   ]
  },
  {
   "cell_type": "code",
   "execution_count": null,
   "metadata": {},
   "outputs": [],
   "source": [
    "test_stock[\"Buy\"] = buysell[0]\n",
    "test_stock[\"Sell\"] = buysell[1]"
   ]
  },
  {
   "cell_type": "code",
   "execution_count": null,
   "metadata": {},
   "outputs": [],
   "source": [
    "#Replacing the first Sell signal by a NaN value\n",
    "test_stock[\"Sell\"][0] = np.nan"
   ]
  },
  {
   "cell_type": "code",
   "execution_count": null,
   "metadata": {},
   "outputs": [],
   "source": [
    "#Plotting our Signals on our time period\n",
    "plt.figure(figsize=(16,8))\n",
    "plt.scatter(test_stock.index, test_stock[\"Buy\"], color = \"green\", label = \"Buy\", marker = \"^\", alpha=1)\n",
    "plt.scatter(test_stock.index, test_stock[\"Sell\"], color = \"red\", label = \"Sell\", marker = \"v\", alpha=1)\n",
    "plt.plot(test_stock.index, test_stock[\"Adj Close\"], alpha = 0.5)\n",
    "plt.legend()\n",
    "plt.grid()\n",
    "plt.show()"
   ]
  },
  {
   "cell_type": "code",
   "execution_count": null,
   "metadata": {},
   "outputs": [],
   "source": [
    "def performance(data):\n",
    "    performance = [1000000]\n",
    "    num_stocks = 0\n",
    "    for i in range(len(data)):\n",
    "        if math.isnan(data[\"Buy\"][i]) == False:\n",
    "            num_stocks = performance[i]/data[\"Adj Close\"][i]\n",
    "            performance.append(num_stocks*data[\"Adj Close\"][i])\n",
    "        elif math.isnan(data[\"Sell\"][i]) == False:\n",
    "            cash = num_stocks * data[\"Adj Close\"][i]\n",
    "            performance.append(cash)\n",
    "        else: \n",
    "            performance.append(performance[i])\n",
    "            \n",
    "    return performance"
   ]
  },
  {
   "cell_type": "code",
   "execution_count": null,
   "metadata": {},
   "outputs": [],
   "source": [
    "test_stock_performance = performance(test_stock)"
   ]
  },
  {
   "cell_type": "code",
   "execution_count": null,
   "metadata": {},
   "outputs": [],
   "source": [
    "plt.figure(figsize= (12.6, 4.6))\n",
    "plt.plot(test_stock_performance)\n",
    "plt.grid()\n",
    "plt.show()"
   ]
  },
  {
   "cell_type": "code",
   "execution_count": null,
   "metadata": {},
   "outputs": [],
   "source": []
  }
 ],
 "metadata": {
  "kernelspec": {
   "display_name": "Python 3",
   "language": "python",
   "name": "python3"
  },
  "language_info": {
   "codemirror_mode": {
    "name": "ipython",
    "version": 3
   },
   "file_extension": ".py",
   "mimetype": "text/x-python",
   "name": "python",
   "nbconvert_exporter": "python",
   "pygments_lexer": "ipython3",
   "version": "3.8.5"
  }
 },
 "nbformat": 4,
 "nbformat_minor": 4
}