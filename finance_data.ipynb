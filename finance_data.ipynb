{
 "cells": [
  {
   "cell_type": "code",
   "execution_count": 25,
   "metadata": {
    "collapsed": true
   },
   "outputs": [],
   "source": [
    "import yfinance as yf\n",
    "import pandas_datareader.data as pdr\n",
    "import pandas as pd\n",
    "import numpy as np\n",
    "import datetime\n",
    "import matplotlib.pyplot as plt\n",
    "%matplotlib inline\n",
    "yf.pdr_override()"
   ]
  },
  {
   "cell_type": "code",
   "execution_count": 26,
   "outputs": [],
   "source": [
    "start = datetime.datetime(2006, 1, 1)\n",
    "end = datetime.datetime(2016, 1, 1)"
   ],
   "metadata": {
    "collapsed": false,
    "pycharm": {
     "name": "#%%\n"
    }
   }
  },
  {
   "cell_type": "code",
   "execution_count": 27,
   "outputs": [
    {
     "name": "stdout",
     "output_type": "stream",
     "text": [
      "[*********************100%***********************]  1 of 1 completed\n",
      "[*********************100%***********************]  1 of 1 completed\n",
      "[*********************100%***********************]  1 of 1 completed\n",
      "[*********************100%***********************]  1 of 1 completed\n",
      "[*********************100%***********************]  1 of 1 completed\n",
      "[*********************100%***********************]  1 of 1 completed\n"
     ]
    }
   ],
   "source": [
    "BAC = pdr.get_data_yahoo('BAC', data_source='yahoo', start=start, end=end)\n",
    "C =   pdr.get_data_yahoo('C',   data_source='yahoo', start=start, end=end)\n",
    "GS =  pdr.get_data_yahoo('GS',  data_source='yahoo', start=start, end=end)\n",
    "JPM = pdr.get_data_yahoo('JPM', data_source='yahoo', start=start, end=end)\n",
    "MS =  pdr.get_data_yahoo('MS',  data_source='yahoo', start=start, end=end)\n",
    "WFC = pdr.get_data_yahoo('WFC', data_source='yahoo', start=start, end=end)"
   ],
   "metadata": {
    "collapsed": false,
    "pycharm": {
     "name": "#%%\n"
    }
   }
  },
  {
   "cell_type": "code",
   "execution_count": 19,
   "outputs": [],
   "source": [
    "tickers = ['BAC', 'C', 'GS', 'JPM', 'MS', 'WFC']\n",
    "bank_stocks = pd.concat([BAC, C, GS, JPM, MS, WFC], axis=1,keys=tickers)\n",
    "bank_stocks.columns.names = ['Bank Ticker','Stock Info']"
   ],
   "metadata": {
    "collapsed": false,
    "pycharm": {
     "name": "#%%\n"
    }
   }
  },
  {
   "cell_type": "code",
   "execution_count": 33,
   "outputs": [
    {
     "data": {
      "text/plain": "Bank Ticker        BAC                                                        \\\nStock Info        Open       High        Low      Close  Adj Close    Volume   \nDate                                                                           \n2006-01-03   46.919998  47.180000  46.150002  47.080002  34.106041  16296700   \n2006-01-04   47.000000  47.240002  46.450001  46.580002  33.743816  17757900   \n2006-01-05   46.580002  46.830002  46.320000  46.639999  33.787266  14970700   \n2006-01-06   46.799999  46.910000  46.349998  46.570000  33.736572  12599800   \n2006-01-09   46.720001  46.970001  46.360001  46.599998  33.758297  15619400   \n...                ...        ...        ...        ...        ...       ...   \n2015-12-24   17.320000  17.379999  17.219999  17.270000  15.430058  29369400   \n2015-12-28   17.219999  17.230000  16.980000  17.129999  15.304976  41777500   \n2015-12-29   17.250000  17.350000  17.160000  17.280001  15.438995  45670400   \n2015-12-30   17.200001  17.240000  17.040001  17.049999  15.233494  35066400   \n2015-12-31   17.010000  17.070000  16.830000  16.830000  15.036935  47153000   \n\nBank Ticker           C                                      ...         MS  \\\nStock Info         Open        High         Low       Close  ...        Low   \nDate                                                         ...              \n2006-01-03   490.000000  493.799988  481.100006  492.899994  ...  56.740002   \n2006-01-04   488.600006  491.000000  483.500000  483.799988  ...  58.349998   \n2006-01-05   484.399994  487.799988  484.000000  486.200012  ...  58.020000   \n2006-01-06   488.799988  489.000000  482.000000  486.200012  ...  58.049999   \n2006-01-09   486.000000  487.399994  483.000000  483.899994  ...  58.619999   \n...                 ...         ...         ...         ...  ...        ...   \n2015-12-24    52.480000   52.970001   52.450001   52.709999  ...  32.439999   \n2015-12-28    52.570000   52.570000   51.959999   52.380001  ...  31.950001   \n2015-12-29    52.759998   53.220001   52.740002   52.980000  ...  32.330002   \n2015-12-30    52.840000   52.939999   52.250000   52.299999  ...  32.200001   \n2015-12-31    52.070000   52.389999   51.750000   51.750000  ...  31.770000   \n\nBank Ticker                                       WFC                        \\\nStock Info       Close  Adj Close   Volume       Open       High        Low   \nDate                                                                          \n2006-01-03   58.310001  36.364140  5377000  31.600000  31.975000  31.195000   \n2006-01-04   58.349998  36.389069  7977800  31.799999  31.820000  31.365000   \n2006-01-05   58.509998  36.488869  5778000  31.500000  31.555000  31.309999   \n2006-01-06   58.570000  36.526283  6889800  31.580000  31.775000  31.385000   \n2006-01-09   59.189999  36.912933  4144500  31.674999  31.825001  31.555000   \n...                ...        ...      ...        ...        ...        ...   \n2015-12-24   32.480000  28.227333  2798200  54.970001  55.090000  54.709999   \n2015-12-28   32.169998  27.957930  5420300  54.549999  54.779999  54.169998   \n2015-12-29   32.549999  28.288172  6388200  55.110001  55.349998  54.990002   \n2015-12-30   32.230000  28.010065  5057200  55.270000  55.310001  54.790001   \n2015-12-31   31.809999  27.645065  8154300  54.509998  54.950001  54.220001   \n\nBank Ticker                                  \nStock Info       Close  Adj Close    Volume  \nDate                                         \n2006-01-03   31.900000  20.523809  11016400  \n2006-01-04   31.530001  20.285755  10870000  \n2006-01-05   31.495001  20.263241  10158000  \n2006-01-06   31.680000  20.382265   8403800  \n2006-01-09   31.674999  20.379047   5619600  \n...                ...        ...       ...  \n2015-12-24   54.820000  45.933815   4999400  \n2015-12-28   54.680000  45.816509   8288800  \n2015-12-29   55.290001  46.327637   7894900  \n2015-12-30   54.889999  45.992474   8016900  \n2015-12-31   54.360001  45.548393  10929800  \n\n[2517 rows x 36 columns]",
      "text/html": "<div>\n<style scoped>\n    .dataframe tbody tr th:only-of-type {\n        vertical-align: middle;\n    }\n\n    .dataframe tbody tr th {\n        vertical-align: top;\n    }\n\n    .dataframe thead tr th {\n        text-align: left;\n    }\n\n    .dataframe thead tr:last-of-type th {\n        text-align: right;\n    }\n</style>\n<table border=\"1\" class=\"dataframe\">\n  <thead>\n    <tr>\n      <th>Bank Ticker</th>\n      <th colspan=\"6\" halign=\"left\">BAC</th>\n      <th colspan=\"4\" halign=\"left\">C</th>\n      <th>...</th>\n      <th colspan=\"4\" halign=\"left\">MS</th>\n      <th colspan=\"6\" halign=\"left\">WFC</th>\n    </tr>\n    <tr>\n      <th>Stock Info</th>\n      <th>Open</th>\n      <th>High</th>\n      <th>Low</th>\n      <th>Close</th>\n      <th>Adj Close</th>\n      <th>Volume</th>\n      <th>Open</th>\n      <th>High</th>\n      <th>Low</th>\n      <th>Close</th>\n      <th>...</th>\n      <th>Low</th>\n      <th>Close</th>\n      <th>Adj Close</th>\n      <th>Volume</th>\n      <th>Open</th>\n      <th>High</th>\n      <th>Low</th>\n      <th>Close</th>\n      <th>Adj Close</th>\n      <th>Volume</th>\n    </tr>\n    <tr>\n      <th>Date</th>\n      <th></th>\n      <th></th>\n      <th></th>\n      <th></th>\n      <th></th>\n      <th></th>\n      <th></th>\n      <th></th>\n      <th></th>\n      <th></th>\n      <th></th>\n      <th></th>\n      <th></th>\n      <th></th>\n      <th></th>\n      <th></th>\n      <th></th>\n      <th></th>\n      <th></th>\n      <th></th>\n      <th></th>\n    </tr>\n  </thead>\n  <tbody>\n    <tr>\n      <th>2006-01-03</th>\n      <td>46.919998</td>\n      <td>47.180000</td>\n      <td>46.150002</td>\n      <td>47.080002</td>\n      <td>34.106041</td>\n      <td>16296700</td>\n      <td>490.000000</td>\n      <td>493.799988</td>\n      <td>481.100006</td>\n      <td>492.899994</td>\n      <td>...</td>\n      <td>56.740002</td>\n      <td>58.310001</td>\n      <td>36.364140</td>\n      <td>5377000</td>\n      <td>31.600000</td>\n      <td>31.975000</td>\n      <td>31.195000</td>\n      <td>31.900000</td>\n      <td>20.523809</td>\n      <td>11016400</td>\n    </tr>\n    <tr>\n      <th>2006-01-04</th>\n      <td>47.000000</td>\n      <td>47.240002</td>\n      <td>46.450001</td>\n      <td>46.580002</td>\n      <td>33.743816</td>\n      <td>17757900</td>\n      <td>488.600006</td>\n      <td>491.000000</td>\n      <td>483.500000</td>\n      <td>483.799988</td>\n      <td>...</td>\n      <td>58.349998</td>\n      <td>58.349998</td>\n      <td>36.389069</td>\n      <td>7977800</td>\n      <td>31.799999</td>\n      <td>31.820000</td>\n      <td>31.365000</td>\n      <td>31.530001</td>\n      <td>20.285755</td>\n      <td>10870000</td>\n    </tr>\n    <tr>\n      <th>2006-01-05</th>\n      <td>46.580002</td>\n      <td>46.830002</td>\n      <td>46.320000</td>\n      <td>46.639999</td>\n      <td>33.787266</td>\n      <td>14970700</td>\n      <td>484.399994</td>\n      <td>487.799988</td>\n      <td>484.000000</td>\n      <td>486.200012</td>\n      <td>...</td>\n      <td>58.020000</td>\n      <td>58.509998</td>\n      <td>36.488869</td>\n      <td>5778000</td>\n      <td>31.500000</td>\n      <td>31.555000</td>\n      <td>31.309999</td>\n      <td>31.495001</td>\n      <td>20.263241</td>\n      <td>10158000</td>\n    </tr>\n    <tr>\n      <th>2006-01-06</th>\n      <td>46.799999</td>\n      <td>46.910000</td>\n      <td>46.349998</td>\n      <td>46.570000</td>\n      <td>33.736572</td>\n      <td>12599800</td>\n      <td>488.799988</td>\n      <td>489.000000</td>\n      <td>482.000000</td>\n      <td>486.200012</td>\n      <td>...</td>\n      <td>58.049999</td>\n      <td>58.570000</td>\n      <td>36.526283</td>\n      <td>6889800</td>\n      <td>31.580000</td>\n      <td>31.775000</td>\n      <td>31.385000</td>\n      <td>31.680000</td>\n      <td>20.382265</td>\n      <td>8403800</td>\n    </tr>\n    <tr>\n      <th>2006-01-09</th>\n      <td>46.720001</td>\n      <td>46.970001</td>\n      <td>46.360001</td>\n      <td>46.599998</td>\n      <td>33.758297</td>\n      <td>15619400</td>\n      <td>486.000000</td>\n      <td>487.399994</td>\n      <td>483.000000</td>\n      <td>483.899994</td>\n      <td>...</td>\n      <td>58.619999</td>\n      <td>59.189999</td>\n      <td>36.912933</td>\n      <td>4144500</td>\n      <td>31.674999</td>\n      <td>31.825001</td>\n      <td>31.555000</td>\n      <td>31.674999</td>\n      <td>20.379047</td>\n      <td>5619600</td>\n    </tr>\n    <tr>\n      <th>...</th>\n      <td>...</td>\n      <td>...</td>\n      <td>...</td>\n      <td>...</td>\n      <td>...</td>\n      <td>...</td>\n      <td>...</td>\n      <td>...</td>\n      <td>...</td>\n      <td>...</td>\n      <td>...</td>\n      <td>...</td>\n      <td>...</td>\n      <td>...</td>\n      <td>...</td>\n      <td>...</td>\n      <td>...</td>\n      <td>...</td>\n      <td>...</td>\n      <td>...</td>\n      <td>...</td>\n    </tr>\n    <tr>\n      <th>2015-12-24</th>\n      <td>17.320000</td>\n      <td>17.379999</td>\n      <td>17.219999</td>\n      <td>17.270000</td>\n      <td>15.430058</td>\n      <td>29369400</td>\n      <td>52.480000</td>\n      <td>52.970001</td>\n      <td>52.450001</td>\n      <td>52.709999</td>\n      <td>...</td>\n      <td>32.439999</td>\n      <td>32.480000</td>\n      <td>28.227333</td>\n      <td>2798200</td>\n      <td>54.970001</td>\n      <td>55.090000</td>\n      <td>54.709999</td>\n      <td>54.820000</td>\n      <td>45.933815</td>\n      <td>4999400</td>\n    </tr>\n    <tr>\n      <th>2015-12-28</th>\n      <td>17.219999</td>\n      <td>17.230000</td>\n      <td>16.980000</td>\n      <td>17.129999</td>\n      <td>15.304976</td>\n      <td>41777500</td>\n      <td>52.570000</td>\n      <td>52.570000</td>\n      <td>51.959999</td>\n      <td>52.380001</td>\n      <td>...</td>\n      <td>31.950001</td>\n      <td>32.169998</td>\n      <td>27.957930</td>\n      <td>5420300</td>\n      <td>54.549999</td>\n      <td>54.779999</td>\n      <td>54.169998</td>\n      <td>54.680000</td>\n      <td>45.816509</td>\n      <td>8288800</td>\n    </tr>\n    <tr>\n      <th>2015-12-29</th>\n      <td>17.250000</td>\n      <td>17.350000</td>\n      <td>17.160000</td>\n      <td>17.280001</td>\n      <td>15.438995</td>\n      <td>45670400</td>\n      <td>52.759998</td>\n      <td>53.220001</td>\n      <td>52.740002</td>\n      <td>52.980000</td>\n      <td>...</td>\n      <td>32.330002</td>\n      <td>32.549999</td>\n      <td>28.288172</td>\n      <td>6388200</td>\n      <td>55.110001</td>\n      <td>55.349998</td>\n      <td>54.990002</td>\n      <td>55.290001</td>\n      <td>46.327637</td>\n      <td>7894900</td>\n    </tr>\n    <tr>\n      <th>2015-12-30</th>\n      <td>17.200001</td>\n      <td>17.240000</td>\n      <td>17.040001</td>\n      <td>17.049999</td>\n      <td>15.233494</td>\n      <td>35066400</td>\n      <td>52.840000</td>\n      <td>52.939999</td>\n      <td>52.250000</td>\n      <td>52.299999</td>\n      <td>...</td>\n      <td>32.200001</td>\n      <td>32.230000</td>\n      <td>28.010065</td>\n      <td>5057200</td>\n      <td>55.270000</td>\n      <td>55.310001</td>\n      <td>54.790001</td>\n      <td>54.889999</td>\n      <td>45.992474</td>\n      <td>8016900</td>\n    </tr>\n    <tr>\n      <th>2015-12-31</th>\n      <td>17.010000</td>\n      <td>17.070000</td>\n      <td>16.830000</td>\n      <td>16.830000</td>\n      <td>15.036935</td>\n      <td>47153000</td>\n      <td>52.070000</td>\n      <td>52.389999</td>\n      <td>51.750000</td>\n      <td>51.750000</td>\n      <td>...</td>\n      <td>31.770000</td>\n      <td>31.809999</td>\n      <td>27.645065</td>\n      <td>8154300</td>\n      <td>54.509998</td>\n      <td>54.950001</td>\n      <td>54.220001</td>\n      <td>54.360001</td>\n      <td>45.548393</td>\n      <td>10929800</td>\n    </tr>\n  </tbody>\n</table>\n<p>2517 rows × 36 columns</p>\n</div>"
     },
     "execution_count": 33,
     "metadata": {},
     "output_type": "execute_result"
    }
   ],
   "source": [
    "bank_stocks"
   ],
   "metadata": {
    "collapsed": false,
    "pycharm": {
     "name": "#%%\n"
    }
   }
  },
  {
   "cell_type": "code",
   "execution_count": null,
   "outputs": [],
   "source": [],
   "metadata": {
    "collapsed": false,
    "pycharm": {
     "name": "#%%\n"
    }
   }
  }
 ],
 "metadata": {
  "kernelspec": {
   "display_name": "Python 3",
   "language": "python",
   "name": "python3"
  },
  "language_info": {
   "codemirror_mode": {
    "name": "ipython",
    "version": 2
   },
   "file_extension": ".py",
   "mimetype": "text/x-python",
   "name": "python",
   "nbconvert_exporter": "python",
   "pygments_lexer": "ipython2",
   "version": "2.7.6"
  }
 },
 "nbformat": 4,
 "nbformat_minor": 0
}