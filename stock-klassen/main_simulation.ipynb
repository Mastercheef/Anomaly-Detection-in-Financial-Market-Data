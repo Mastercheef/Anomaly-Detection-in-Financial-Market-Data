{
 "cells": [
  {
   "cell_type": "code",
   "execution_count": 1,
   "outputs": [
    {
     "data": {
      "text/html": "        <script type=\"text/javascript\">\n        window.PlotlyConfig = {MathJaxConfig: 'local'};\n        if (window.MathJax) {MathJax.Hub.Config({SVG: {font: \"STIX-Web\"}});}\n        if (typeof require !== 'undefined') {\n        require.undef(\"plotly\");\n        requirejs.config({\n            paths: {\n                'plotly': ['https://cdn.plot.ly/plotly-latest.min']\n            }\n        });\n        require(['plotly'], function(Plotly) {\n            window._Plotly = Plotly;\n        });\n        }\n        </script>\n        "
     },
     "metadata": {},
     "output_type": "display_data"
    }
   ],
   "source": [
    "from Simulation import stock_simulaiton"
   ],
   "metadata": {
    "collapsed": false,
    "pycharm": {
     "name": "#%%\n"
    }
   }
  },
  {
   "cell_type": "code",
   "execution_count": 2,
   "outputs": [
    {
     "name": "stdout",
     "output_type": "stream",
     "text": [
      "Conta 0.1\n",
      "[99, 62]\n",
      "[101, 60]\n",
      "[122, 47]\n",
      "[116, 51]\n",
      "[93, 74]\n",
      "[104, 66]\n",
      "[96, 72]\n",
      "[125, 37]\n",
      "[102, 65]\n",
      "[112, 50]\n",
      "[101, 59]\n",
      "[86, 78]\n",
      "[98, 65]\n",
      "[104, 66]\n",
      "[119, 52]\n",
      "[126, 39]\n",
      "[112, 47]\n",
      "[117, 48]\n",
      "[81, 80]\n",
      "[133, 34]\n",
      "[99, 69]\n",
      "[94, 67]\n",
      "[126, 29]\n",
      "[100, 62]\n",
      "[89, 75]\n",
      "[96, 61]\n",
      "[110, 54]\n",
      "[138, 23]\n",
      "[130, 38]\n",
      "[89, 76]\n",
      "[82, 82]\n",
      "[102, 61]\n",
      "[99, 55]\n",
      "[99, 65]\n",
      "[113, 50]\n",
      "Conta 0.2\n",
      "[178, 153]\n",
      "[199, 112]\n",
      "[214, 112]\n",
      "[224, 103]\n",
      "[191, 147]\n",
      "[168, 150]\n",
      "[178, 151]\n",
      "[264, 70]\n",
      "[192, 136]\n",
      "[218, 115]\n",
      "[214, 122]\n",
      "[182, 152]\n",
      "[205, 133]\n",
      "[204, 130]\n",
      "[213, 104]\n",
      "[232, 105]\n",
      "[226, 110]\n",
      "[232, 95]\n",
      "[173, 160]\n",
      "[260, 65]\n",
      "[179, 158]\n",
      "[172, 153]\n",
      "[246, 66]\n",
      "[177, 159]\n",
      "[171, 158]\n",
      "[222, 110]\n",
      "[215, 104]\n",
      "[273, 55]\n",
      "[226, 107]\n",
      "[171, 165]\n",
      "[192, 147]\n",
      "[209, 125]\n",
      "[173, 137]\n",
      "[210, 127]\n",
      "[230, 101]\n",
      "Conta 0.5\n",
      "[408, 403]\n",
      "[490, 342]\n",
      "[513, 292]\n",
      "[551, 282]\n",
      "[474, 345]\n",
      "[431, 391]\n",
      "[445, 367]\n",
      "[648, 163]\n",
      "[424, 347]\n",
      "[538, 300]\n",
      "[499, 300]\n",
      "[443, 347]\n",
      "[488, 325]\n",
      "[486, 315]\n",
      "[491, 335]\n",
      "[512, 281]\n",
      "[538, 286]\n",
      "[567, 259]\n",
      "[426, 387]\n",
      "[615, 201]\n",
      "[434, 394]\n",
      "[437, 393]\n",
      "[632, 217]\n",
      "[479, 352]\n",
      "[444, 388]\n",
      "[533, 293]\n",
      "[507, 278]\n",
      "[552, 191]\n",
      "[460, 302]\n",
      "[462, 349]\n",
      "[458, 373]\n",
      "[532, 307]\n",
      "[442, 395]\n",
      "[528, 301]\n",
      "[525, 281]\n",
      "running time: 5.35 min\n"
     ]
    }
   ],
   "source": [
    "table = stock_simulaiton()"
   ],
   "metadata": {
    "collapsed": false,
    "pycharm": {
     "name": "#%%\n"
    }
   }
  },
  {
   "cell_type": "code",
   "execution_count": 3,
   "outputs": [
    {
     "data": {
      "text/plain": "   Contamination  Anomaly Score  Ramdom Score\n0          0.002      62.233714     54.616000\n1          0.005      60.983286     54.920143\n2          0.008      59.594095     54.948000\n3          0.010            NaN           NaN\n4          0.015            NaN           NaN\n5          0.020            NaN           NaN",
      "text/html": "<div>\n<style scoped>\n    .dataframe tbody tr th:only-of-type {\n        vertical-align: middle;\n    }\n\n    .dataframe tbody tr th {\n        vertical-align: top;\n    }\n\n    .dataframe thead th {\n        text-align: right;\n    }\n</style>\n<table border=\"1\" class=\"dataframe\">\n  <thead>\n    <tr style=\"text-align: right;\">\n      <th></th>\n      <th>Contamination</th>\n      <th>Anomaly Score</th>\n      <th>Ramdom Score</th>\n    </tr>\n  </thead>\n  <tbody>\n    <tr>\n      <th>0</th>\n      <td>0.002</td>\n      <td>62.233714</td>\n      <td>54.616000</td>\n    </tr>\n    <tr>\n      <th>1</th>\n      <td>0.005</td>\n      <td>60.983286</td>\n      <td>54.920143</td>\n    </tr>\n    <tr>\n      <th>2</th>\n      <td>0.008</td>\n      <td>59.594095</td>\n      <td>54.948000</td>\n    </tr>\n    <tr>\n      <th>3</th>\n      <td>0.010</td>\n      <td>NaN</td>\n      <td>NaN</td>\n    </tr>\n    <tr>\n      <th>4</th>\n      <td>0.015</td>\n      <td>NaN</td>\n      <td>NaN</td>\n    </tr>\n    <tr>\n      <th>5</th>\n      <td>0.020</td>\n      <td>NaN</td>\n      <td>NaN</td>\n    </tr>\n  </tbody>\n</table>\n</div>"
     },
     "execution_count": 3,
     "metadata": {},
     "output_type": "execute_result"
    }
   ],
   "source": [
    "table"
   ],
   "metadata": {
    "collapsed": false,
    "pycharm": {
     "name": "#%%\n"
    }
   }
  }
 ],
 "metadata": {
  "kernelspec": {
   "display_name": "Python 3",
   "language": "python",
   "name": "python3"
  },
  "language_info": {
   "codemirror_mode": {
    "name": "ipython",
    "version": 2
   },
   "file_extension": ".py",
   "mimetype": "text/x-python",
   "name": "python",
   "nbconvert_exporter": "python",
   "pygments_lexer": "ipython2",
   "version": "2.7.6"
  }
 },
 "nbformat": 4,
 "nbformat_minor": 0
}