{
 "cells": [
  {
   "cell_type": "code",
   "execution_count": 1,
   "metadata": {
    "collapsed": true
   },
   "outputs": [
    {
     "data": {
      "text/html": "        <script type=\"text/javascript\">\n        window.PlotlyConfig = {MathJaxConfig: 'local'};\n        if (window.MathJax) {MathJax.Hub.Config({SVG: {font: \"STIX-Web\"}});}\n        if (typeof require !== 'undefined') {\n        require.undef(\"plotly\");\n        requirejs.config({\n            paths: {\n                'plotly': ['https://cdn.plot.ly/plotly-latest.min']\n            }\n        });\n        require(['plotly'], function(Plotly) {\n            window._Plotly = Plotly;\n        });\n        }\n        </script>\n        "
     },
     "metadata": {},
     "output_type": "display_data"
    }
   ],
   "source": [
    "import pandas as pd\n",
    "import numpy as np\n",
    "import time\n",
    "from stocks import *\n",
    "from plot_stocks import *\n",
    "from Builder_stock import acc_score, build_stock\n",
    "from Plotter_stock import *"
   ]
  },
  {
   "cell_type": "code",
   "execution_count": 2,
   "outputs": [],
   "source": [
    "faang    = ['FB','AMZN','AAPL','NFLX','GOOG']\n",
    "trending = ['TSLA','AMC','NVDA','GME','ARNA','PFE','HOG','BLU','BMY','ETH-USD','QCOM','MGM','LUPIN.NS','JNJ','SHOP','AXP','AMD']\n",
    "branchen = ['EOAN.DE','RWE.DE','ALV.DE','MUV2.DE','DBK.DE','CBK.DE','NWT.F','AFX.DE','PFE.F','SIX2.DE','DTE.DE','SOBA.F','VODI.DE','TNE5.F','SIE.DE','IFX.DE','SSU.DE','SAP.DE','ZAL.DE','G24.DE','FNTN.DE','ABEC.DE','VOW3.DE','DAI.DE','TOM.DE','ADS.DE','PSM.DE','BOSS.DE','CCC3.DE','PRG.F','LIN.DE','HEI.DE','TKA.DE','TUI1.DE','BRH.F','BAS.DE','BAYN.DE','WMT.F']"
   ],
   "metadata": {
    "collapsed": false,
    "pycharm": {
     "name": "#%%\n"
    }
   }
  },
  {
   "cell_type": "code",
   "execution_count": 3,
   "outputs": [],
   "source": [
    "trending_stocks = Stocks(trending, trending, start=\"2015-01-01\", stop=\"2021-10-01\")\n",
    "trending_stocks = trending_stocks.df_stocks.dropna()"
   ],
   "metadata": {
    "collapsed": false,
    "pycharm": {
     "name": "#%%\n"
    }
   }
  },
  {
   "cell_type": "code",
   "execution_count": 4,
   "outputs": [
    {
     "name": "stdout",
     "output_type": "stream",
     "text": [
      "[22, 6]\n",
      "TSLA Anomaly: 78.57 %\n",
      "TSLA Random: 57.14 %\n",
      "[23, 6]\n",
      "AMC Anomaly: 79.31 %\n",
      "AMC Random: 48.28 %\n",
      "[25, 5]\n",
      "NVDA Anomaly: 83.33 %\n",
      "NVDA Random: 70.0 %\n",
      "[16, 11]\n",
      "GME Anomaly: 59.26 %\n",
      "GME Random: 48.15 %\n",
      "[15, 11]\n",
      "ARNA Anomaly: 57.69 %\n",
      "ARNA Random: 57.69 %\n",
      "[21, 8]\n",
      "PFE Anomaly: 72.41 %\n",
      "PFE Random: 62.07 %\n",
      "[25, 4]\n",
      "HOG Anomaly: 86.21 %\n",
      "HOG Random: 41.38 %\n",
      "[16, 13]\n",
      "BLU Anomaly: 44.83 %\n",
      "BLU Random: 58.62 %\n",
      "[21, 7]\n",
      "BMY Anomaly: 75.0 %\n",
      "BMY Random: 85.71 %\n",
      "[19, 8]\n",
      "ETH-USD Anomaly: 70.37 %\n",
      "ETH-USD Random: 70.37 %\n",
      "[21, 7]\n",
      "QCOM Anomaly: 75.0 %\n",
      "QCOM Random: 46.43 %\n",
      "[23, 4]\n",
      "MGM Anomaly: 85.19 %\n",
      "MGM Random: 66.67 %\n",
      "[17, 13]\n",
      "LUPIN.NS Anomaly: 56.67 %\n",
      "LUPIN.NS Random: 40.0 %\n",
      "[26, 4]\n",
      "JNJ Anomaly: 86.67 %\n",
      "JNJ Random: 60.0 %\n",
      "[27, 2]\n",
      "SHOP Anomaly: 93.1 %\n",
      "SHOP Random: 86.21 %\n",
      "[24, 6]\n",
      "AXP Anomaly: 80.0 %\n",
      "AXP Random: 86.67 %\n",
      "[23, 4]\n",
      "AMD Anomaly: 85.19 %\n",
      "AMD Random: 70.37 %\n"
     ]
    }
   ],
   "source": [
    "for label in trending:\n",
    "    df = pd.DataFrame(trending_stocks[label]['Close'])\n",
    "    df = build_stock(df,N=1,contamin=0.020,tage_pred=90)\n",
    "    anom_score, comp_score = acc_score(df)\n",
    "\n",
    "    print(label,'Anomaly:',anom_score,'%')\n",
    "    print(label,'Random:',comp_score,'%')"
   ],
   "metadata": {
    "collapsed": false,
    "pycharm": {
     "name": "#%%\n"
    }
   }
  },
  {
   "cell_type": "code",
   "execution_count": 4,
   "outputs": [],
   "source": [],
   "metadata": {
    "collapsed": false,
    "pycharm": {
     "name": "#%%\n"
    }
   }
  }
 ],
 "metadata": {
  "kernelspec": {
   "display_name": "Python 3",
   "language": "python",
   "name": "python3"
  },
  "language_info": {
   "codemirror_mode": {
    "name": "ipython",
    "version": 2
   },
   "file_extension": ".py",
   "mimetype": "text/x-python",
   "name": "python",
   "nbconvert_exporter": "python",
   "pygments_lexer": "ipython2",
   "version": "2.7.6"
  }
 },
 "nbformat": 4,
 "nbformat_minor": 0
}