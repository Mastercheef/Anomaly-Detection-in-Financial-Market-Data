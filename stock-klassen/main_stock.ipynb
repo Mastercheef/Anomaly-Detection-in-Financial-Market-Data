{
 "cells": [
  {
   "cell_type": "code",
   "execution_count": 1,
   "metadata": {
    "collapsed": true
   },
   "outputs": [
    {
     "data": {
      "text/html": "        <script type=\"text/javascript\">\n        window.PlotlyConfig = {MathJaxConfig: 'local'};\n        if (window.MathJax) {MathJax.Hub.Config({SVG: {font: \"STIX-Web\"}});}\n        if (typeof require !== 'undefined') {\n        require.undef(\"plotly\");\n        requirejs.config({\n            paths: {\n                'plotly': ['https://cdn.plot.ly/plotly-latest.min']\n            }\n        });\n        require(['plotly'], function(Plotly) {\n            window._Plotly = Plotly;\n        });\n        }\n        </script>\n        "
     },
     "metadata": {},
     "output_type": "display_data"
    }
   ],
   "source": [
    "import pandas as pd\n",
    "import numpy as np\n",
    "\n",
    "from stocks import *\n",
    "from plot_stocks import *\n",
    "from Builder_stock import *\n",
    "from Plotter_stock import *"
   ]
  },
  {
   "cell_type": "code",
   "execution_count": 2,
   "outputs": [],
   "source": [
    "faang = ['FB','AMZN','AAPL','NFLX','GOOG']"
   ],
   "metadata": {
    "collapsed": false,
    "pycharm": {
     "name": "#%%\n"
    }
   }
  },
  {
   "cell_type": "code",
   "execution_count": 7,
   "outputs": [
    {
     "data": {
      "text/plain": "                  Close    Return  Return log        RV       BPV      Diff  \\\nDate                                                                          \n2013-12-31   398.790009  0.000000    0.000000  0.000000  0.000000  0.000000   \n2014-01-02   397.970001 -0.002056   -0.002058  0.000004  0.000012 -0.000008   \n2014-01-03   396.440002 -0.003845   -0.003852  0.000015  0.000043 -0.000028   \n2014-01-06   393.630005 -0.007088   -0.007113  0.000051  0.000124 -0.000074   \n2014-01-07   398.029999  0.011178    0.011116  0.000124  0.000170 -0.000046   \n...                 ...       ...         ...       ...       ...       ...   \n2021-09-24  3425.520020  0.002787    0.002783  0.000008  0.000025 -0.000017   \n2021-09-27  3405.800049 -0.005757   -0.005773  0.000033  0.000242 -0.000209   \n2021-09-28  3315.959961 -0.026379   -0.026733  0.000715  0.000188  0.000526   \n2021-09-29  3301.120117 -0.004475   -0.004485  0.000020  0.000034 -0.000014   \n2021-09-30  3285.040039 -0.004871   -0.004883  0.000024  0.000000  0.000024   \n\n                  SJ       RSV  Prediction  Anomaly Close  Anomaly pct Return  \\\nDate                                                                            \n2013-12-31  0.000000  0.000000           0              0                   0   \n2014-01-02 -0.000004 -0.000004           0              0                   0   \n2014-01-03 -0.000015 -0.000015           0              0                   0   \n2014-01-06 -0.000051 -0.000051           0              0                   0   \n2014-01-07  0.000124  0.000124           0              0                   0   \n...              ...       ...         ...            ...                 ...   \n2021-09-24  0.000008  0.000008           0              0                   0   \n2021-09-27 -0.000033 -0.000033           0              0                   0   \n2021-09-28 -0.000715 -0.000715           0              0                   0   \n2021-09-29 -0.000020 -0.000020           0              0                   0   \n2021-09-30 -0.000024 -0.000024           0              0                   0   \n\n            Anomaly Returns IF  Anomaly RSV IF  Anomaly Diff IF  \\\nDate                                                              \n2013-12-31                   0               0                0   \n2014-01-02                   0               0                0   \n2014-01-03                   0               0                0   \n2014-01-06                   0               0                0   \n2014-01-07                   0               0                0   \n...                        ...             ...              ...   \n2021-09-24                   0               0                0   \n2021-09-27                   0               0                0   \n2021-09-28                   0               0                0   \n2021-09-29                   0               0                0   \n2021-09-30                   0               0                0   \n\n            Amomaly RSV Diff  Amomaly Returns RSV Diff  \nDate                                                    \n2013-12-31                 0                         0  \n2014-01-02                 0                         0  \n2014-01-03                 0                         0  \n2014-01-06                 0                         0  \n2014-01-07                 0                         0  \n...                      ...                       ...  \n2021-09-24                 0                         0  \n2021-09-27                 0                         0  \n2021-09-28                 0                         0  \n2021-09-29                 0                         0  \n2021-09-30                 0                         0  \n\n[1952 rows x 16 columns]",
      "text/html": "<div>\n<style scoped>\n    .dataframe tbody tr th:only-of-type {\n        vertical-align: middle;\n    }\n\n    .dataframe tbody tr th {\n        vertical-align: top;\n    }\n\n    .dataframe thead th {\n        text-align: right;\n    }\n</style>\n<table border=\"1\" class=\"dataframe\">\n  <thead>\n    <tr style=\"text-align: right;\">\n      <th></th>\n      <th>Close</th>\n      <th>Return</th>\n      <th>Return log</th>\n      <th>RV</th>\n      <th>BPV</th>\n      <th>Diff</th>\n      <th>SJ</th>\n      <th>RSV</th>\n      <th>Prediction</th>\n      <th>Anomaly Close</th>\n      <th>Anomaly pct Return</th>\n      <th>Anomaly Returns IF</th>\n      <th>Anomaly RSV IF</th>\n      <th>Anomaly Diff IF</th>\n      <th>Amomaly RSV Diff</th>\n      <th>Amomaly Returns RSV Diff</th>\n    </tr>\n    <tr>\n      <th>Date</th>\n      <th></th>\n      <th></th>\n      <th></th>\n      <th></th>\n      <th></th>\n      <th></th>\n      <th></th>\n      <th></th>\n      <th></th>\n      <th></th>\n      <th></th>\n      <th></th>\n      <th></th>\n      <th></th>\n      <th></th>\n      <th></th>\n    </tr>\n  </thead>\n  <tbody>\n    <tr>\n      <th>2013-12-31</th>\n      <td>398.790009</td>\n      <td>0.000000</td>\n      <td>0.000000</td>\n      <td>0.000000</td>\n      <td>0.000000</td>\n      <td>0.000000</td>\n      <td>0.000000</td>\n      <td>0.000000</td>\n      <td>0</td>\n      <td>0</td>\n      <td>0</td>\n      <td>0</td>\n      <td>0</td>\n      <td>0</td>\n      <td>0</td>\n      <td>0</td>\n    </tr>\n    <tr>\n      <th>2014-01-02</th>\n      <td>397.970001</td>\n      <td>-0.002056</td>\n      <td>-0.002058</td>\n      <td>0.000004</td>\n      <td>0.000012</td>\n      <td>-0.000008</td>\n      <td>-0.000004</td>\n      <td>-0.000004</td>\n      <td>0</td>\n      <td>0</td>\n      <td>0</td>\n      <td>0</td>\n      <td>0</td>\n      <td>0</td>\n      <td>0</td>\n      <td>0</td>\n    </tr>\n    <tr>\n      <th>2014-01-03</th>\n      <td>396.440002</td>\n      <td>-0.003845</td>\n      <td>-0.003852</td>\n      <td>0.000015</td>\n      <td>0.000043</td>\n      <td>-0.000028</td>\n      <td>-0.000015</td>\n      <td>-0.000015</td>\n      <td>0</td>\n      <td>0</td>\n      <td>0</td>\n      <td>0</td>\n      <td>0</td>\n      <td>0</td>\n      <td>0</td>\n      <td>0</td>\n    </tr>\n    <tr>\n      <th>2014-01-06</th>\n      <td>393.630005</td>\n      <td>-0.007088</td>\n      <td>-0.007113</td>\n      <td>0.000051</td>\n      <td>0.000124</td>\n      <td>-0.000074</td>\n      <td>-0.000051</td>\n      <td>-0.000051</td>\n      <td>0</td>\n      <td>0</td>\n      <td>0</td>\n      <td>0</td>\n      <td>0</td>\n      <td>0</td>\n      <td>0</td>\n      <td>0</td>\n    </tr>\n    <tr>\n      <th>2014-01-07</th>\n      <td>398.029999</td>\n      <td>0.011178</td>\n      <td>0.011116</td>\n      <td>0.000124</td>\n      <td>0.000170</td>\n      <td>-0.000046</td>\n      <td>0.000124</td>\n      <td>0.000124</td>\n      <td>0</td>\n      <td>0</td>\n      <td>0</td>\n      <td>0</td>\n      <td>0</td>\n      <td>0</td>\n      <td>0</td>\n      <td>0</td>\n    </tr>\n    <tr>\n      <th>...</th>\n      <td>...</td>\n      <td>...</td>\n      <td>...</td>\n      <td>...</td>\n      <td>...</td>\n      <td>...</td>\n      <td>...</td>\n      <td>...</td>\n      <td>...</td>\n      <td>...</td>\n      <td>...</td>\n      <td>...</td>\n      <td>...</td>\n      <td>...</td>\n      <td>...</td>\n      <td>...</td>\n    </tr>\n    <tr>\n      <th>2021-09-24</th>\n      <td>3425.520020</td>\n      <td>0.002787</td>\n      <td>0.002783</td>\n      <td>0.000008</td>\n      <td>0.000025</td>\n      <td>-0.000017</td>\n      <td>0.000008</td>\n      <td>0.000008</td>\n      <td>0</td>\n      <td>0</td>\n      <td>0</td>\n      <td>0</td>\n      <td>0</td>\n      <td>0</td>\n      <td>0</td>\n      <td>0</td>\n    </tr>\n    <tr>\n      <th>2021-09-27</th>\n      <td>3405.800049</td>\n      <td>-0.005757</td>\n      <td>-0.005773</td>\n      <td>0.000033</td>\n      <td>0.000242</td>\n      <td>-0.000209</td>\n      <td>-0.000033</td>\n      <td>-0.000033</td>\n      <td>0</td>\n      <td>0</td>\n      <td>0</td>\n      <td>0</td>\n      <td>0</td>\n      <td>0</td>\n      <td>0</td>\n      <td>0</td>\n    </tr>\n    <tr>\n      <th>2021-09-28</th>\n      <td>3315.959961</td>\n      <td>-0.026379</td>\n      <td>-0.026733</td>\n      <td>0.000715</td>\n      <td>0.000188</td>\n      <td>0.000526</td>\n      <td>-0.000715</td>\n      <td>-0.000715</td>\n      <td>0</td>\n      <td>0</td>\n      <td>0</td>\n      <td>0</td>\n      <td>0</td>\n      <td>0</td>\n      <td>0</td>\n      <td>0</td>\n    </tr>\n    <tr>\n      <th>2021-09-29</th>\n      <td>3301.120117</td>\n      <td>-0.004475</td>\n      <td>-0.004485</td>\n      <td>0.000020</td>\n      <td>0.000034</td>\n      <td>-0.000014</td>\n      <td>-0.000020</td>\n      <td>-0.000020</td>\n      <td>0</td>\n      <td>0</td>\n      <td>0</td>\n      <td>0</td>\n      <td>0</td>\n      <td>0</td>\n      <td>0</td>\n      <td>0</td>\n    </tr>\n    <tr>\n      <th>2021-09-30</th>\n      <td>3285.040039</td>\n      <td>-0.004871</td>\n      <td>-0.004883</td>\n      <td>0.000024</td>\n      <td>0.000000</td>\n      <td>0.000024</td>\n      <td>-0.000024</td>\n      <td>-0.000024</td>\n      <td>0</td>\n      <td>0</td>\n      <td>0</td>\n      <td>0</td>\n      <td>0</td>\n      <td>0</td>\n      <td>0</td>\n      <td>0</td>\n    </tr>\n  </tbody>\n</table>\n<p>1952 rows × 16 columns</p>\n</div>"
     },
     "execution_count": 7,
     "metadata": {},
     "output_type": "execute_result"
    }
   ],
   "source": [
    "faang_stock = Stocks(faang, faang, start=\"2014-01-01\", stop=\"2021-10-01\")\n",
    "df = pd.DataFrame(faang_stock.df_stocks['AMZN']['Close'])\n",
    "df = build_stock(df,N=1,contamin=0.008,tage_pred=90)\n",
    "df"
   ],
   "metadata": {
    "collapsed": false,
    "pycharm": {
     "name": "#%%\n"
    }
   }
  },
  {
   "cell_type": "code",
   "execution_count": 4,
   "outputs": [],
   "source": [
    "pred = pd.DataFrame()\n",
    "pred['Prediction'] = df[(df['Anomaly Returns IF']==1)&((df['Anomaly RSV IF']==1)|(df['Anomaly Diff IF']==1))]['Prediction']"
   ],
   "metadata": {
    "collapsed": false,
    "pycharm": {
     "name": "#%%\n"
    }
   }
  },
  {
   "cell_type": "code",
   "execution_count": 9,
   "outputs": [
    {
     "name": "stdout",
     "output_type": "stream",
     "text": [
      "Treffer Anomalie: \n"
     ]
    },
    {
     "data": {
      "text/plain": "Prediction\n1             14\n0              2\ndtype: int64"
     },
     "execution_count": 9,
     "metadata": {},
     "output_type": "execute_result"
    }
   ],
   "source": [
    "print('Treffer Anomalie: ')\n",
    "pred.value_counts()"
   ],
   "metadata": {
    "collapsed": false,
    "pycharm": {
     "name": "#%%\n"
    }
   }
  },
  {
   "cell_type": "code",
   "execution_count": 6,
   "outputs": [
    {
     "data": {
      "text/plain": "1    1378\n0     574\nName: Prediction, dtype: int64"
     },
     "execution_count": 6,
     "metadata": {},
     "output_type": "execute_result"
    }
   ],
   "source": [
    "df['Prediction'].value_counts()"
   ],
   "metadata": {
    "collapsed": false,
    "pycharm": {
     "name": "#%%\n"
    }
   }
  },
  {
   "cell_type": "code",
   "execution_count": 6,
   "outputs": [],
   "source": [],
   "metadata": {
    "collapsed": false,
    "pycharm": {
     "name": "#%%\n"
    }
   }
  }
 ],
 "metadata": {
  "kernelspec": {
   "display_name": "Python 3",
   "language": "python",
   "name": "python3"
  },
  "language_info": {
   "codemirror_mode": {
    "name": "ipython",
    "version": 2
   },
   "file_extension": ".py",
   "mimetype": "text/x-python",
   "name": "python",
   "nbconvert_exporter": "python",
   "pygments_lexer": "ipython2",
   "version": "2.7.6"
  }
 },
 "nbformat": 4,
 "nbformat_minor": 0
}